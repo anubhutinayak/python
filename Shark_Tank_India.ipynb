{
  "nbformat": 4,
  "nbformat_minor": 0,
  "metadata": {
    "colab": {
      "provenance": [],
      "authorship_tag": "ABX9TyO3fs40oEZvuNUSPO5SfUlm",
      "include_colab_link": true
    },
    "kernelspec": {
      "name": "python3",
      "display_name": "Python 3"
    },
    "language_info": {
      "name": "python"
    }
  },
  "cells": [
    {
      "cell_type": "markdown",
      "metadata": {
        "id": "view-in-github",
        "colab_type": "text"
      },
      "source": [
        "<a href=\"https://colab.research.google.com/github/anubhutinayak/python/blob/main/Shark_Tank_India.ipynb\" target=\"_parent\"><img src=\"https://colab.research.google.com/assets/colab-badge.svg\" alt=\"Open In Colab\"/></a>"
      ]
    },
    {
      "cell_type": "code",
      "execution_count": 1,
      "metadata": {
        "colab": {
          "base_uri": "https://localhost:8080/",
          "height": 73
        },
        "id": "qC1fA5ky9sMy",
        "outputId": "366e3095-8687-4ab7-fc94-b2c0cc803d7f"
      },
      "outputs": [
        {
          "output_type": "display_data",
          "data": {
            "text/plain": [
              "<IPython.core.display.HTML object>"
            ],
            "text/html": [
              "\n",
              "     <input type=\"file\" id=\"files-24ffc133-e0e8-468d-871e-82e1fc98add0\" name=\"files[]\" multiple disabled\n",
              "        style=\"border:none\" />\n",
              "     <output id=\"result-24ffc133-e0e8-468d-871e-82e1fc98add0\">\n",
              "      Upload widget is only available when the cell has been executed in the\n",
              "      current browser session. Please rerun this cell to enable.\n",
              "      </output>\n",
              "      <script>// Copyright 2017 Google LLC\n",
              "//\n",
              "// Licensed under the Apache License, Version 2.0 (the \"License\");\n",
              "// you may not use this file except in compliance with the License.\n",
              "// You may obtain a copy of the License at\n",
              "//\n",
              "//      http://www.apache.org/licenses/LICENSE-2.0\n",
              "//\n",
              "// Unless required by applicable law or agreed to in writing, software\n",
              "// distributed under the License is distributed on an \"AS IS\" BASIS,\n",
              "// WITHOUT WARRANTIES OR CONDITIONS OF ANY KIND, either express or implied.\n",
              "// See the License for the specific language governing permissions and\n",
              "// limitations under the License.\n",
              "\n",
              "/**\n",
              " * @fileoverview Helpers for google.colab Python module.\n",
              " */\n",
              "(function(scope) {\n",
              "function span(text, styleAttributes = {}) {\n",
              "  const element = document.createElement('span');\n",
              "  element.textContent = text;\n",
              "  for (const key of Object.keys(styleAttributes)) {\n",
              "    element.style[key] = styleAttributes[key];\n",
              "  }\n",
              "  return element;\n",
              "}\n",
              "\n",
              "// Max number of bytes which will be uploaded at a time.\n",
              "const MAX_PAYLOAD_SIZE = 100 * 1024;\n",
              "\n",
              "function _uploadFiles(inputId, outputId) {\n",
              "  const steps = uploadFilesStep(inputId, outputId);\n",
              "  const outputElement = document.getElementById(outputId);\n",
              "  // Cache steps on the outputElement to make it available for the next call\n",
              "  // to uploadFilesContinue from Python.\n",
              "  outputElement.steps = steps;\n",
              "\n",
              "  return _uploadFilesContinue(outputId);\n",
              "}\n",
              "\n",
              "// This is roughly an async generator (not supported in the browser yet),\n",
              "// where there are multiple asynchronous steps and the Python side is going\n",
              "// to poll for completion of each step.\n",
              "// This uses a Promise to block the python side on completion of each step,\n",
              "// then passes the result of the previous step as the input to the next step.\n",
              "function _uploadFilesContinue(outputId) {\n",
              "  const outputElement = document.getElementById(outputId);\n",
              "  const steps = outputElement.steps;\n",
              "\n",
              "  const next = steps.next(outputElement.lastPromiseValue);\n",
              "  return Promise.resolve(next.value.promise).then((value) => {\n",
              "    // Cache the last promise value to make it available to the next\n",
              "    // step of the generator.\n",
              "    outputElement.lastPromiseValue = value;\n",
              "    return next.value.response;\n",
              "  });\n",
              "}\n",
              "\n",
              "/**\n",
              " * Generator function which is called between each async step of the upload\n",
              " * process.\n",
              " * @param {string} inputId Element ID of the input file picker element.\n",
              " * @param {string} outputId Element ID of the output display.\n",
              " * @return {!Iterable<!Object>} Iterable of next steps.\n",
              " */\n",
              "function* uploadFilesStep(inputId, outputId) {\n",
              "  const inputElement = document.getElementById(inputId);\n",
              "  inputElement.disabled = false;\n",
              "\n",
              "  const outputElement = document.getElementById(outputId);\n",
              "  outputElement.innerHTML = '';\n",
              "\n",
              "  const pickedPromise = new Promise((resolve) => {\n",
              "    inputElement.addEventListener('change', (e) => {\n",
              "      resolve(e.target.files);\n",
              "    });\n",
              "  });\n",
              "\n",
              "  const cancel = document.createElement('button');\n",
              "  inputElement.parentElement.appendChild(cancel);\n",
              "  cancel.textContent = 'Cancel upload';\n",
              "  const cancelPromise = new Promise((resolve) => {\n",
              "    cancel.onclick = () => {\n",
              "      resolve(null);\n",
              "    };\n",
              "  });\n",
              "\n",
              "  // Wait for the user to pick the files.\n",
              "  const files = yield {\n",
              "    promise: Promise.race([pickedPromise, cancelPromise]),\n",
              "    response: {\n",
              "      action: 'starting',\n",
              "    }\n",
              "  };\n",
              "\n",
              "  cancel.remove();\n",
              "\n",
              "  // Disable the input element since further picks are not allowed.\n",
              "  inputElement.disabled = true;\n",
              "\n",
              "  if (!files) {\n",
              "    return {\n",
              "      response: {\n",
              "        action: 'complete',\n",
              "      }\n",
              "    };\n",
              "  }\n",
              "\n",
              "  for (const file of files) {\n",
              "    const li = document.createElement('li');\n",
              "    li.append(span(file.name, {fontWeight: 'bold'}));\n",
              "    li.append(span(\n",
              "        `(${file.type || 'n/a'}) - ${file.size} bytes, ` +\n",
              "        `last modified: ${\n",
              "            file.lastModifiedDate ? file.lastModifiedDate.toLocaleDateString() :\n",
              "                                    'n/a'} - `));\n",
              "    const percent = span('0% done');\n",
              "    li.appendChild(percent);\n",
              "\n",
              "    outputElement.appendChild(li);\n",
              "\n",
              "    const fileDataPromise = new Promise((resolve) => {\n",
              "      const reader = new FileReader();\n",
              "      reader.onload = (e) => {\n",
              "        resolve(e.target.result);\n",
              "      };\n",
              "      reader.readAsArrayBuffer(file);\n",
              "    });\n",
              "    // Wait for the data to be ready.\n",
              "    let fileData = yield {\n",
              "      promise: fileDataPromise,\n",
              "      response: {\n",
              "        action: 'continue',\n",
              "      }\n",
              "    };\n",
              "\n",
              "    // Use a chunked sending to avoid message size limits. See b/62115660.\n",
              "    let position = 0;\n",
              "    do {\n",
              "      const length = Math.min(fileData.byteLength - position, MAX_PAYLOAD_SIZE);\n",
              "      const chunk = new Uint8Array(fileData, position, length);\n",
              "      position += length;\n",
              "\n",
              "      const base64 = btoa(String.fromCharCode.apply(null, chunk));\n",
              "      yield {\n",
              "        response: {\n",
              "          action: 'append',\n",
              "          file: file.name,\n",
              "          data: base64,\n",
              "        },\n",
              "      };\n",
              "\n",
              "      let percentDone = fileData.byteLength === 0 ?\n",
              "          100 :\n",
              "          Math.round((position / fileData.byteLength) * 100);\n",
              "      percent.textContent = `${percentDone}% done`;\n",
              "\n",
              "    } while (position < fileData.byteLength);\n",
              "  }\n",
              "\n",
              "  // All done.\n",
              "  yield {\n",
              "    response: {\n",
              "      action: 'complete',\n",
              "    }\n",
              "  };\n",
              "}\n",
              "\n",
              "scope.google = scope.google || {};\n",
              "scope.google.colab = scope.google.colab || {};\n",
              "scope.google.colab._files = {\n",
              "  _uploadFiles,\n",
              "  _uploadFilesContinue,\n",
              "};\n",
              "})(self);\n",
              "</script> "
            ]
          },
          "metadata": {}
        },
        {
          "output_type": "stream",
          "name": "stdout",
          "text": [
            "Saving Shark Tank India.csv to Shark Tank India.csv\n"
          ]
        }
      ],
      "source": [
        "\n",
        "from google.colab import files\n",
        "\n",
        "\n",
        "uploads= files.upload()\n"
      ]
    },
    {
      "cell_type": "code",
      "source": [
        "import pandas as pd\n",
        "import io\n",
        "df = pd.read_csv(io.BytesIO(uploads['Shark Tank India.csv']))\n",
        "print(df)"
      ],
      "metadata": {
        "colab": {
          "base_uri": "https://localhost:8080/"
        },
        "id": "Uvoi9dVnrPv5",
        "outputId": "e1050303-d40e-472d-d644-37eaac9ea382"
      },
      "execution_count": null,
      "outputs": [
        {
          "output_type": "stream",
          "name": "stdout",
          "text": [
            "     Season Number Season Start Season End  Episode Number  \\\n",
            "0                1    20-Dec-21  04-Feb-22               1   \n",
            "1                1    20-Dec-21  04-Feb-22               1   \n",
            "2                1    20-Dec-21  04-Feb-22               1   \n",
            "3                1    20-Dec-21  04-Feb-22               2   \n",
            "4                1    20-Dec-21  04-Feb-22               2   \n",
            "..             ...          ...        ...             ...   \n",
            "315              2    02-Jan-23  10-Mar-23              50   \n",
            "316              2    02-Jan-23  10-Mar-23              51   \n",
            "317              2    02-Jan-23  10-Mar-23              51   \n",
            "318              2    02-Jan-23  10-Mar-23              51   \n",
            "319              2    02-Jan-23  10-Mar-23              51   \n",
            "\n",
            "                     Episode Title  Pitch Number      Startup Name  \\\n",
            "0      Badlegi Business Ki Tasveer             1     BluePineFoods   \n",
            "1      Badlegi Business Ki Tasveer             2      BoozScooters   \n",
            "2      Badlegi Business Ki Tasveer             3  HeartUpMySleeves   \n",
            "3          Insaan, Ideas Aur Sapne             4         TagzFoods   \n",
            "4          Insaan, Ideas Aur Sapne             5      HeadAndHeart   \n",
            "..                             ...           ...               ...   \n",
            "315  Season Finale With The Sharks           316             MYBYK   \n",
            "316    Gateway To Shark Tank India           317            GODESi   \n",
            "317    Gateway To Shark Tank India           318               TAC   \n",
            "318    Gateway To Shark Tank India           319        Naara-Aaba   \n",
            "319    Gateway To Shark Tank India           320          StyloBug   \n",
            "\n",
            "                         Industry  \\\n",
            "0                            Food   \n",
            "1    Vehicles/Electrical Vehicles   \n",
            "2                  Beauty/Fashion   \n",
            "3                            Food   \n",
            "4                       Education   \n",
            "..                            ...   \n",
            "315  Vehicles/Electrical Vehicles   \n",
            "316                          Food   \n",
            "317                Beauty/Fashion   \n",
            "318              Liquor/Beverages   \n",
            "319                Beauty/Fashion   \n",
            "\n",
            "                                  Business Description  \\\n",
            "0                                         Frozen Momos   \n",
            "1        Renting e-bike for mobility in private spaces   \n",
            "2                                   Detachable Sleeves   \n",
            "3                          Healthy Potato Chips Snacks   \n",
            "4                             Brain Development Course   \n",
            "..                                                 ...   \n",
            "315                                  IoT-enabled bikes   \n",
            "316                                 Handmade lollipops   \n",
            "317  ayurveda co for glowing skin, makeup & open pores   \n",
            "318                                pears and plum wine   \n",
            "319                               Girls Dresses Online   \n",
            "\n",
            "                   Company Website  ...  Ghazal Investment Amount  \\\n",
            "0       https://bluepinefoods.com/  ...                       NaN   \n",
            "1          https://www.boozup.net/  ...                       NaN   \n",
            "2    https://heartupmysleeves.com/  ...                       NaN   \n",
            "3           https://tagzfoods.com/  ...                       NaN   \n",
            "4               https://thehnh.in/  ...                       NaN   \n",
            "..                             ...  ...                       ...   \n",
            "315              https://mybyk.in/  ...                       NaN   \n",
            "316             https://godesi.in/  ...                       NaN   \n",
            "317     https://theayurvedaco.com/  ...                       NaN   \n",
            "318     https://www.naaraaaba.com/  ...                       NaN   \n",
            "319          https://stylobug.com/  ...                       NaN   \n",
            "\n",
            "     Ghazal Investment Equity  Ghazal Debt Amount  Amit Investment Amount  \\\n",
            "0                         NaN                 NaN                     NaN   \n",
            "1                         NaN                 NaN                     NaN   \n",
            "2                         NaN                 NaN                     NaN   \n",
            "3                         NaN                 NaN                     NaN   \n",
            "4                         NaN                 NaN                     NaN   \n",
            "..                        ...                 ...                     ...   \n",
            "315                       NaN                 NaN                     NaN   \n",
            "316                       NaN                 NaN                     NaN   \n",
            "317                       NaN                 NaN                     NaN   \n",
            "318                       NaN                 NaN                     NaN   \n",
            "319                       NaN                 NaN                    80.0   \n",
            "\n",
            "     Amit Investment Equity Amit Debt Amount  Guest Investment Amount  \\\n",
            "0                       NaN              NaN                      NaN   \n",
            "1                       NaN              NaN                      NaN   \n",
            "2                       NaN              NaN                      NaN   \n",
            "3                       NaN              NaN                      NaN   \n",
            "4                       NaN              NaN                      NaN   \n",
            "..                      ...              ...                      ...   \n",
            "315                     NaN              NaN                      NaN   \n",
            "316                     NaN              NaN                      NaN   \n",
            "317                     NaN              NaN                     40.5   \n",
            "318                     NaN              NaN                     25.0   \n",
            "319                    10.0              NaN                      NaN   \n",
            "\n",
            "    Guest Investment Equity Guest Debt Amount  Guest Name  \n",
            "0                       NaN               NaN         NaN  \n",
            "1                       NaN               NaN         NaN  \n",
            "2                       NaN               NaN         NaN  \n",
            "3                       NaN               NaN         NaN  \n",
            "4                       NaN               NaN         NaN  \n",
            "..                      ...               ...         ...  \n",
            "315                     NaN               NaN         NaN  \n",
            "316                     NaN               NaN         NaN  \n",
            "317                     0.5              34.5       Vikas  \n",
            "318                     2.5              12.5       Vikas  \n",
            "319                     NaN               NaN         NaN  \n",
            "\n",
            "[320 rows x 64 columns]\n"
          ]
        }
      ]
    },
    {
      "cell_type": "code",
      "source": [
        "print(df['Industry'].value_counts())\n",
        "print(df['Season Number'].max(),'Seasons\\n')\n",
        "print(df['Pitch Number'].max(), 'startup companies came up for pitching \\n')\n",
        "print(df['Episode Number'].max(),'maximum no of episodes\\n')\n",
        "print(df['Episode Number'].value_counts().sort_values(ascending =False).unique(),'pitches came per episodes\\n')"
      ],
      "metadata": {
        "colab": {
          "base_uri": "https://localhost:8080/"
        },
        "id": "XlWxLURJAa0x",
        "outputId": "a5b9ed76-6d13-4121-d12b-1bf2f938265f"
      },
      "execution_count": null,
      "outputs": [
        {
          "output_type": "stream",
          "name": "stdout",
          "text": [
            "Food                            82\n",
            "Beauty/Fashion                  58\n",
            "Manufacturing                   38\n",
            "Services                        28\n",
            "Technology/Software             26\n",
            "Medical/Health                  23\n",
            "Vehicles/Electrical Vehicles    13\n",
            "Furnishing/Household            13\n",
            "Education                        9\n",
            "Sports                           7\n",
            "Liquor/Beverages                 7\n",
            "Animal/Pets                      5\n",
            "Electronics                      4\n",
            "Agriculture                      3\n",
            "Hardware                         2\n",
            "Entertainment                    2\n",
            "Name: Industry, dtype: int64\n",
            "2 Seasons\n",
            "\n",
            "320 startup companies came up for pitching \n",
            "\n",
            "51 maximum no of episodes\n",
            "\n",
            "[30  8  7  6  5  4  3  2] pitches came per episodes\n",
            "\n"
          ]
        }
      ]
    },
    {
      "cell_type": "code",
      "source": [
        "print(df.describe())"
      ],
      "metadata": {
        "colab": {
          "base_uri": "https://localhost:8080/"
        },
        "id": "mSgR6ahMBrlw",
        "outputId": "2d9d9d7f-551c-4acf-dbe0-47f03819705a"
      },
      "execution_count": null,
      "outputs": [
        {
          "output_type": "stream",
          "name": "stdout",
          "text": [
            "       Season Number  Episode Number  Pitch Number  Number of Presenters  \\\n",
            "count     320.000000      320.000000    320.000000            320.000000   \n",
            "mean        1.525000       21.550000    160.500000              2.078125   \n",
            "std         0.500157       14.676362     92.520268              0.847358   \n",
            "min         1.000000        0.000000      1.000000              1.000000   \n",
            "25%         1.000000        9.000000     80.750000              2.000000   \n",
            "50%         2.000000       21.000000    160.500000              2.000000   \n",
            "75%         2.000000       33.000000    240.250000              2.000000   \n",
            "max         2.000000       51.000000    320.000000              6.000000   \n",
            "\n",
            "       Male Presenters  Female Presenters  Transgender Presenters  \\\n",
            "count       281.000000         149.000000                     3.0   \n",
            "mean          1.722420           1.194631                     1.0   \n",
            "std           0.866744           0.429925                     0.0   \n",
            "min           1.000000           1.000000                     1.0   \n",
            "25%           1.000000           1.000000                     1.0   \n",
            "50%           2.000000           1.000000                     1.0   \n",
            "75%           2.000000           1.000000                     1.0   \n",
            "max           6.000000           3.000000                     1.0   \n",
            "\n",
            "       Couple Presenters   Started in  Yearly Revenue  ...  \\\n",
            "count         315.000000   184.000000      134.000000  ...   \n",
            "mean            0.187302  2018.472826      355.947761  ...   \n",
            "std             0.390774     2.495750      918.888781  ...   \n",
            "min             0.000000  2005.000000       -1.000000  ...   \n",
            "25%             0.000000  2017.000000        0.000000  ...   \n",
            "50%             0.000000  2019.000000      100.000000  ...   \n",
            "75%             0.000000  2020.000000      247.500000  ...   \n",
            "max             1.000000  2022.000000     7200.000000  ...   \n",
            "\n",
            "       Peyush Debt Amount  Ghazal Investment Amount  Ghazal Investment Equity  \\\n",
            "count           11.000000                  8.000000                  8.000000   \n",
            "mean            31.090909                 19.998782                  6.462500   \n",
            "std             15.332675                 10.946848                  5.326199   \n",
            "min             10.000000                  0.000253                  1.000000   \n",
            "25%             23.500000                 14.995000                  4.050000   \n",
            "50%             25.000000                 22.500000                  5.000000   \n",
            "75%             40.000000                 26.250000                  7.750000   \n",
            "max             60.000000                 33.330000                 17.500000   \n",
            "\n",
            "       Ghazal Debt Amount  Amit Investment Amount  Amit Investment Equity  \\\n",
            "count                 0.0               21.000000               21.000000   \n",
            "mean                  NaN               38.138571                5.190314   \n",
            "std                   NaN               26.305707                5.599211   \n",
            "min                   NaN                5.000000                1.000000   \n",
            "25%                   NaN               18.750000                1.500000   \n",
            "50%                   NaN               30.000000                3.000000   \n",
            "75%                   NaN               50.000000                5.000000   \n",
            "max                   NaN              100.000000               20.000000   \n",
            "\n",
            "       Amit Debt Amount  Guest Investment Amount  Guest Investment Equity  \\\n",
            "count          4.000000                 2.000000                 2.000000   \n",
            "mean          36.250000                32.750000                 1.500000   \n",
            "std           23.935678                10.960155                 1.414214   \n",
            "min           10.000000                25.000000                 0.500000   \n",
            "25%           21.250000                28.875000                 1.000000   \n",
            "50%           35.000000                32.750000                 1.500000   \n",
            "75%           50.000000                36.625000                 2.000000   \n",
            "max           65.000000                40.500000                 2.500000   \n",
            "\n",
            "       Guest Debt Amount  \n",
            "count           2.000000  \n",
            "mean           23.500000  \n",
            "std            15.556349  \n",
            "min            12.500000  \n",
            "25%            18.000000  \n",
            "50%            23.500000  \n",
            "75%            29.000000  \n",
            "max            34.500000  \n",
            "\n",
            "[8 rows x 52 columns]\n"
          ]
        }
      ]
    },
    {
      "cell_type": "code",
      "source": [],
      "metadata": {
        "id": "r9Fcktc7kIFe"
      },
      "execution_count": null,
      "outputs": []
    },
    {
      "cell_type": "code",
      "source": [
        "import pandas as pd\n",
        "import matplotlib.pyplot as plt\n",
        "import plotly.express as px\n",
        "\n",
        "\n",
        "print(df['Industry'].value_counts())\n",
        "industry_counts = df['Industry'].value_counts()\n",
        "\n",
        "industry_counts.plot.bar(color='blue', title='Different Industries came in Shark Tank India', xlabel='X-axis Label', ylabel='Y-axis Label')\n",
        "plt.show()\n",
        "# figure = px.bar(temp,x='Industry',title='Different Industries came in Shark Tank India')\n",
        "\n",
        "# figure.show()\n",
        "\n"
      ],
      "metadata": {
        "colab": {
          "base_uri": "https://localhost:8080/",
          "height": 939
        },
        "id": "aCdNKWH_J4BR",
        "outputId": "a2665db2-ca68-4c27-e3b3-f8abaea73215"
      },
      "execution_count": null,
      "outputs": [
        {
          "output_type": "stream",
          "name": "stdout",
          "text": [
            "Food                            82\n",
            "Beauty/Fashion                  58\n",
            "Manufacturing                   38\n",
            "Services                        28\n",
            "Technology/Software             26\n",
            "Medical/Health                  23\n",
            "Vehicles/Electrical Vehicles    13\n",
            "Furnishing/Household            13\n",
            "Education                        9\n",
            "Sports                           7\n",
            "Liquor/Beverages                 7\n",
            "Animal/Pets                      5\n",
            "Electronics                      4\n",
            "Agriculture                      3\n",
            "Hardware                         2\n",
            "Entertainment                    2\n",
            "Name: Industry, dtype: int64\n"
          ]
        },
        {
          "output_type": "display_data",
          "data": {
            "text/plain": [
              "<Figure size 640x480 with 1 Axes>"
            ],
            "image/png": "[encoded data removed]"
          },
          "metadata": {}
        }
      ]
    },
    {
      "cell_type": "code",
      "source": [
        "\n",
        "import pandas as pd\n",
        "import matplotlib.pyplot as plt\n",
        "import plotly.express as px\n",
        "\n",
        "print('total presenter -',df['Number of Presenters'].sum())\n",
        "print('male -',df['Male Presenters'].sum())\n",
        "print('female-',df['Female Presenters'].sum())\n",
        "print('male enterprenure percentage-',round(df['Male Presenters'].sum()/df['Number of Presenters'].sum()*100,2))\n",
        "print('female enterprenure percentage-',round(df['Female Presenters'].sum()/df['Number of Presenters'].sum()*100,2))\n",
        "print('Couple enterprenure percentage-',round(df['Couple Presenters'].sum()/df['Number of Presenters'].sum()*100,2))"
      ],
      "metadata": {
        "colab": {
          "base_uri": "https://localhost:8080/"
        },
        "id": "NS3ReFm_Z9et",
        "outputId": "f20b97db-1268-42ba-cd88-e1f2feaf96fd"
      },
      "execution_count": null,
      "outputs": [
        {
          "output_type": "stream",
          "name": "stdout",
          "text": [
            "total presenter - 665\n",
            "male - 484.0\n",
            "female- 178.0\n",
            "male enterprenure percentage- 72.78\n",
            "female enterprenure percentage- 26.77\n",
            "Couple enterprenure percentage- 8.87\n"
          ]
        }
      ]
    },
    {
      "cell_type": "markdown",
      "source": [
        "top ten highest revenue of the brand"
      ],
      "metadata": {
        "id": "50O73J-bm_0M"
      }
    },
    {
      "cell_type": "code",
      "source": [
        "\n",
        "import pandas as pd\n",
        "import matplotlib.pyplot as plt\n",
        "import plotly.express as px\n",
        "\n",
        "\n",
        "\n",
        "\n",
        "\n",
        "print(df.groupby('Startup Name')['Yearly Revenue'].max().nlargest(10))\n",
        "tmp =df.sort_values('Yearly Revenue',ascending = False)[0:10]\n",
        "figure2= px.bar(tmp,x='Startup Name',y='Yearly Revenue',title='Highest Revenue Of the Pitches')\n",
        "figure2.show()"
      ],
      "metadata": {
        "colab": {
          "base_uri": "https://localhost:8080/",
          "height": 750
        },
        "id": "uhB_rb7UnGie",
        "outputId": "f9d1a3d1-7e90-44ed-e4d3-201e9fbc5dd9"
      },
      "execution_count": null,
      "outputs": [
        {
          "output_type": "stream",
          "name": "stdout",
          "text": [
            "Startup Name\n",
            "FrenchCrown          7200.0\n",
            "Rubans               5100.0\n",
            "Toyshine             4500.0\n",
            "GuardianGears        2500.0\n",
            "GunjanAppsStudios    2400.0\n",
            "UnStop               1600.0\n",
            "StyloBug             1400.0\n",
            "RaisingSuperstars    1300.0\n",
            "DesmondJi            1200.0\n",
            "Eume                 1200.0\n",
            "Name: Yearly Revenue, dtype: float64\n"
          ]
        },
        {
          "output_type": "display_data",
          "data": {
            "text/html": [
              "<html>\n",
              "<head><meta charset=\"utf-8\" /></head>\n",
              "<body>\n",
              "    <div>            <script src=\"https://cdnjs.cloudflare.com/ajax/libs/mathjax/2.7.5/MathJax.js?config=TeX-AMS-MML_SVG\"></script><script type=\"text/javascript\">if (window.MathJax && window.MathJax.Hub && window.MathJax.Hub.Config) {window.MathJax.Hub.Config({SVG: {font: \"STIX-Web\"}});}</script>                <script type=\"text/javascript\">window.PlotlyConfig = {MathJaxConfig: 'local'};</script>\n",
              "        <script charset=\"utf-8\" src=\"https://cdn.plot.ly/plotly-2.24.1.min.js\"></script>                <div id=\"09d084b6-7ffb-4d7c-9a9b-c6492e38a10b\" class=\"plotly-graph-div\" style=\"height:525px; width:100%;\"></div>            <script type=\"text/javascript\">                                    window.PLOTLYENV=window.PLOTLYENV || {};                                    if (document.getElementById(\"09d084b6-7ffb-4d7c-9a9b-c6492e38a10b\")) {                    Plotly.newPlot(                        \"09d084b6-7ffb-4d7c-9a9b-c6492e38a10b\",                        [{\"alignmentgroup\":\"True\",\"hovertemplate\":\"Startup Name=%{x}\\u003cbr\\u003eYearly Revenue=%{y}\\u003cextra\\u003e\\u003c\\u002fextra\\u003e\",\"legendgroup\":\"\",\"marker\":{\"color\":\"#636efa\",\"pattern\":{\"shape\":\"\"}},\"name\":\"\",\"offsetgroup\":\"\",\"orientation\":\"v\",\"showlegend\":false,\"textposition\":\"auto\",\"x\":[\"FrenchCrown\",\"Rubans\",\"Toyshine\",\"GuardianGears\",\"GunjanAppsStudios\",\"UnStop\",\"StyloBug\",\"RaisingSuperstars\",\"DesmondJi\",\"Eume\"],\"xaxis\":\"x\",\"y\":[7200.0,5100.0,4500.0,2500.0,2400.0,1600.0,1400.0,1300.0,1200.0,1200.0],\"yaxis\":\"y\",\"type\":\"bar\"}],                        {\"template\":{\"data\":{\"histogram2dcontour\":[{\"type\":\"histogram2dcontour\",\"colorbar\":{\"outlinewidth\":0,\"ticks\":\"\"},\"colorscale\":[[0.0,\"#0d0887\"],[0.1111111111111111,\"#46039f\"],[0.2222222222222222,\"#7201a8\"],[0.3333333333333333,\"#9c179e\"],[0.4444444444444444,\"#bd3786\"],[0.5555555555555556,\"#d8576b\"],[0.6666666666666666,\"#ed7953\"],[0.7777777777777778,\"#fb9f3a\"],[0.8888888888888888,\"#fdca26\"],[1.0,\"#f0f921\"]]}],\"choropleth\":[{\"type\":\"choropleth\",\"colorbar\":{\"outlinewidth\":0,\"ticks\":\"\"}}],\"histogram2d\":[{\"type\":\"histogram2d\",\"colorbar\":{\"outlinewidth\":0,\"ticks\":\"\"},\"colorscale\":[[0.0,\"#0d0887\"],[0.1111111111111111,\"#46039f\"],[0.2222222222222222,\"#7201a8\"],[0.3333333333333333,\"#9c179e\"],[0.4444444444444444,\"#bd3786\"],[0.5555555555555556,\"#d8576b\"],[0.6666666666666666,\"#ed7953\"],[0.7777777777777778,\"#fb9f3a\"],[0.8888888888888888,\"#fdca26\"],[1.0,\"#f0f921\"]]}],\"heatmap\":[{\"type\":\"heatmap\",\"colorbar\":{\"outlinewidth\":0,\"ticks\":\"\"},\"colorscale\":[[0.0,\"#0d0887\"],[0.1111111111111111,\"#46039f\"],[0.2222222222222222,\"#7201a8\"],[0.3333333333333333,\"#9c179e\"],[0.4444444444444444,\"#bd3786\"],[0.5555555555555556,\"#d8576b\"],[0.6666666666666666,\"#ed7953\"],[0.7777777777777778,\"#fb9f3a\"],[0.8888888888888888,\"#fdca26\"],[1.0,\"#f0f921\"]]}],\"heatmapgl\":[{\"type\":\"heatmapgl\",\"colorbar\":{\"outlinewidth\":0,\"ticks\":\"\"},\"colorscale\":[[0.0,\"#0d0887\"],[0.1111111111111111,\"#46039f\"],[0.2222222222222222,\"#7201a8\"],[0.3333333333333333,\"#9c179e\"],[0.4444444444444444,\"#bd3786\"],[0.5555555555555556,\"#d8576b\"],[0.6666666666666666,\"#ed7953\"],[0.7777777777777778,\"#fb9f3a\"],[0.8888888888888888,\"#fdca26\"],[1.0,\"#f0f921\"]]}],\"contourcarpet\":[{\"type\":\"contourcarpet\",\"colorbar\":{\"outlinewidth\":0,\"ticks\":\"\"}}],\"contour\":[{\"type\":\"contour\",\"colorbar\":{\"outlinewidth\":0,\"ticks\":\"\"},\"colorscale\":[[0.0,\"#0d0887\"],[0.1111111111111111,\"#46039f\"],[0.2222222222222222,\"#7201a8\"],[0.3333333333333333,\"#9c179e\"],[0.4444444444444444,\"#bd3786\"],[0.5555555555555556,\"#d8576b\"],[0.6666666666666666,\"#ed7953\"],[0.7777777777777778,\"#fb9f3a\"],[0.8888888888888888,\"#fdca26\"],[1.0,\"#f0f921\"]]}],\"surface\":[{\"type\":\"surface\",\"colorbar\":{\"outlinewidth\":0,\"ticks\":\"\"},\"colorscale\":[[0.0,\"#0d0887\"],[0.1111111111111111,\"#46039f\"],[0.2222222222222222,\"#7201a8\"],[0.3333333333333333,\"#9c179e\"],[0.4444444444444444,\"#bd3786\"],[0.5555555555555556,\"#d8576b\"],[0.6666666666666666,\"#ed7953\"],[0.7777777777777778,\"#fb9f3a\"],[0.8888888888888888,\"#fdca26\"],[1.0,\"#f0f921\"]]}],\"mesh3d\":[{\"type\":\"mesh3d\",\"colorbar\":{\"outlinewidth\":0,\"ticks\":\"\"}}],\"scatter\":[{\"fillpattern\":{\"fillmode\":\"overlay\",\"size\":10,\"solidity\":0.2},\"type\":\"scatter\"}],\"parcoords\":[{\"type\":\"parcoords\",\"line\":{\"colorbar\":{\"outlinewidth\":0,\"ticks\":\"\"}}}],\"scatterpolargl\":[{\"type\":\"scatterpolargl\",\"marker\":{\"colorbar\":{\"outlinewidth\":0,\"ticks\":\"\"}}}],\"bar\":[{\"error_x\":{\"color\":\"#2a3f5f\"},\"error_y\":{\"color\":\"#2a3f5f\"},\"marker\":{\"line\":{\"color\":\"#E5ECF6\",\"width\":0.5},\"pattern\":{\"fillmode\":\"overlay\",\"size\":10,\"solidity\":0.2}},\"type\":\"bar\"}],\"scattergeo\":[{\"type\":\"scattergeo\",\"marker\":{\"colorbar\":{\"outlinewidth\":0,\"ticks\":\"\"}}}],\"scatterpolar\":[{\"type\":\"scatterpolar\",\"marker\":{\"colorbar\":{\"outlinewidth\":0,\"ticks\":\"\"}}}],\"histogram\":[{\"marker\":{\"pattern\":{\"fillmode\":\"overlay\",\"size\":10,\"solidity\":0.2}},\"type\":\"histogram\"}],\"scattergl\":[{\"type\":\"scattergl\",\"marker\":{\"colorbar\":{\"outlinewidth\":0,\"ticks\":\"\"}}}],\"scatter3d\":[{\"type\":\"scatter3d\",\"line\":{\"colorbar\":{\"outlinewidth\":0,\"ticks\":\"\"}},\"marker\":{\"colorbar\":{\"outlinewidth\":0,\"ticks\":\"\"}}}],\"scattermapbox\":[{\"type\":\"scattermapbox\",\"marker\":{\"colorbar\":{\"outlinewidth\":0,\"ticks\":\"\"}}}],\"scatterternary\":[{\"type\":\"scatterternary\",\"marker\":{\"colorbar\":{\"outlinewidth\":0,\"ticks\":\"\"}}}],\"scattercarpet\":[{\"type\":\"scattercarpet\",\"marker\":{\"colorbar\":{\"outlinewidth\":0,\"ticks\":\"\"}}}],\"carpet\":[{\"aaxis\":{\"endlinecolor\":\"#2a3f5f\",\"gridcolor\":\"white\",\"linecolor\":\"white\",\"minorgridcolor\":\"white\",\"startlinecolor\":\"#2a3f5f\"},\"baxis\":{\"endlinecolor\":\"#2a3f5f\",\"gridcolor\":\"white\",\"linecolor\":\"white\",\"minorgridcolor\":\"white\",\"startlinecolor\":\"#2a3f5f\"},\"type\":\"carpet\"}],\"table\":[{\"cells\":{\"fill\":{\"color\":\"#EBF0F8\"},\"line\":{\"color\":\"white\"}},\"header\":{\"fill\":{\"color\":\"#C8D4E3\"},\"line\":{\"color\":\"white\"}},\"type\":\"table\"}],\"barpolar\":[{\"marker\":{\"line\":{\"color\":\"#E5ECF6\",\"width\":0.5},\"pattern\":{\"fillmode\":\"overlay\",\"size\":10,\"solidity\":0.2}},\"type\":\"barpolar\"}],\"pie\":[{\"automargin\":true,\"type\":\"pie\"}]},\"layout\":{\"autotypenumbers\":\"strict\",\"colorway\":[\"#636efa\",\"#EF553B\",\"#00cc96\",\"#ab63fa\",\"#FFA15A\",\"#19d3f3\",\"#FF6692\",\"#B6E880\",\"#FF97FF\",\"#FECB52\"],\"font\":{\"color\":\"#2a3f5f\"},\"hovermode\":\"closest\",\"hoverlabel\":{\"align\":\"left\"},\"paper_bgcolor\":\"white\",\"plot_bgcolor\":\"#E5ECF6\",\"polar\":{\"bgcolor\":\"#E5ECF6\",\"angularaxis\":{\"gridcolor\":\"white\",\"linecolor\":\"white\",\"ticks\":\"\"},\"radialaxis\":{\"gridcolor\":\"white\",\"linecolor\":\"white\",\"ticks\":\"\"}},\"ternary\":{\"bgcolor\":\"#E5ECF6\",\"aaxis\":{\"gridcolor\":\"white\",\"linecolor\":\"white\",\"ticks\":\"\"},\"baxis\":{\"gridcolor\":\"white\",\"linecolor\":\"white\",\"ticks\":\"\"},\"caxis\":{\"gridcolor\":\"white\",\"linecolor\":\"white\",\"ticks\":\"\"}},\"coloraxis\":{\"colorbar\":{\"outlinewidth\":0,\"ticks\":\"\"}},\"colorscale\":{\"sequential\":[[0.0,\"#0d0887\"],[0.1111111111111111,\"#46039f\"],[0.2222222222222222,\"#7201a8\"],[0.3333333333333333,\"#9c179e\"],[0.4444444444444444,\"#bd3786\"],[0.5555555555555556,\"#d8576b\"],[0.6666666666666666,\"#ed7953\"],[0.7777777777777778,\"#fb9f3a\"],[0.8888888888888888,\"#fdca26\"],[1.0,\"#f0f921\"]],\"sequentialminus\":[[0.0,\"#0d0887\"],[0.1111111111111111,\"#46039f\"],[0.2222222222222222,\"#7201a8\"],[0.3333333333333333,\"#9c179e\"],[0.4444444444444444,\"#bd3786\"],[0.5555555555555556,\"#d8576b\"],[0.6666666666666666,\"#ed7953\"],[0.7777777777777778,\"#fb9f3a\"],[0.8888888888888888,\"#fdca26\"],[1.0,\"#f0f921\"]],\"diverging\":[[0,\"#8e0152\"],[0.1,\"#c51b7d\"],[0.2,\"#de77ae\"],[0.3,\"#f1b6da\"],[0.4,\"#fde0ef\"],[0.5,\"#f7f7f7\"],[0.6,\"#e6f5d0\"],[0.7,\"#b8e186\"],[0.8,\"#7fbc41\"],[0.9,\"#4d9221\"],[1,\"#276419\"]]},\"xaxis\":{\"gridcolor\":\"white\",\"linecolor\":\"white\",\"ticks\":\"\",\"title\":{\"standoff\":15},\"zerolinecolor\":\"white\",\"automargin\":true,\"zerolinewidth\":2},\"yaxis\":{\"gridcolor\":\"white\",\"linecolor\":\"white\",\"ticks\":\"\",\"title\":{\"standoff\":15},\"zerolinecolor\":\"white\",\"automargin\":true,\"zerolinewidth\":2},\"scene\":{\"xaxis\":{\"backgroundcolor\":\"#E5ECF6\",\"gridcolor\":\"white\",\"linecolor\":\"white\",\"showbackground\":true,\"ticks\":\"\",\"zerolinecolor\":\"white\",\"gridwidth\":2},\"yaxis\":{\"backgroundcolor\":\"#E5ECF6\",\"gridcolor\":\"white\",\"linecolor\":\"white\",\"showbackground\":true,\"ticks\":\"\",\"zerolinecolor\":\"white\",\"gridwidth\":2},\"zaxis\":{\"backgroundcolor\":\"#E5ECF6\",\"gridcolor\":\"white\",\"linecolor\":\"white\",\"showbackground\":true,\"ticks\":\"\",\"zerolinecolor\":\"white\",\"gridwidth\":2}},\"shapedefaults\":{\"line\":{\"color\":\"#2a3f5f\"}},\"annotationdefaults\":{\"arrowcolor\":\"#2a3f5f\",\"arrowhead\":0,\"arrowwidth\":1},\"geo\":{\"bgcolor\":\"white\",\"landcolor\":\"#E5ECF6\",\"subunitcolor\":\"white\",\"showland\":true,\"showlakes\":true,\"lakecolor\":\"white\"},\"title\":{\"x\":0.05},\"mapbox\":{\"style\":\"light\"}}},\"xaxis\":{\"anchor\":\"y\",\"domain\":[0.0,1.0],\"title\":{\"text\":\"Startup Name\"}},\"yaxis\":{\"anchor\":\"x\",\"domain\":[0.0,1.0],\"title\":{\"text\":\"Yearly Revenue\"}},\"legend\":{\"tracegroupgap\":0},\"title\":{\"text\":\"Highest Revenue Of the Pitches\"},\"barmode\":\"relative\"},                        {\"responsive\": true}                    ).then(function(){\n",
              "                            \n",
              "var gd = document.getElementById('09d084b6-7ffb-4d7c-9a9b-c6492e38a10b');\n",
              "var x = new MutationObserver(function (mutations, observer) {{\n",
              "        var display = window.getComputedStyle(gd).display;\n",
              "        if (!display || display === 'none') {{\n",
              "            console.log([gd, 'removed!']);\n",
              "            Plotly.purge(gd);\n",
              "            observer.disconnect();\n",
              "        }}\n",
              "}});\n",
              "\n",
              "// Listen for the removal of the full notebook cells\n",
              "var notebookContainer = gd.closest('#notebook-container');\n",
              "if (notebookContainer) {{\n",
              "    x.observe(notebookContainer, {childList: true});\n",
              "}}\n",
              "\n",
              "// Listen for the clearing of the current output cell\n",
              "var outputEl = gd.closest('.output');\n",
              "if (outputEl) {{\n",
              "    x.observe(outputEl, {childList: true});\n",
              "}}\n",
              "\n",
              "                        })                };                            </script>        </div>\n",
              "</body>\n",
              "</html>"
            ]
          },
          "metadata": {}
        }
      ]
    },
    {
      "cell_type": "markdown",
      "source": [
        "Top 10 highest Gross Margin of different Brands"
      ],
      "metadata": {
        "id": "iDXIKxaXWzFt"
      }
    },
    {
      "cell_type": "code",
      "source": [
        "import pandas as pd\n",
        "import matplotlib.pyplot as plt\n",
        "import plotly.express as px\n",
        "\n",
        "\n",
        "\n",
        "\n",
        "\n",
        "print(df.groupby('Startup Name')['Gross Margin'].max().nlargest(10))\n",
        "tmp =df.sort_values('Gross Margin',ascending = False)[0:10]\n",
        "figure2= px.bar(tmp,x='Startup Name',y='Gross Margin',color='Startup Name',title='Highest Gross Margins Of the Brands')\n",
        "figure2.show()"
      ],
      "metadata": {
        "colab": {
          "base_uri": "https://localhost:8080/",
          "height": 750
        },
        "id": "y35-VpmVXMgk",
        "outputId": "8d59e57e-db4b-46b0-ce47-7a29bb1bf95c"
      },
      "execution_count": null,
      "outputs": [
        {
          "output_type": "stream",
          "name": "stdout",
          "text": [
            "Startup Name\n",
            "Poo-de-Cologne        150.0\n",
            "Farda                 115.0\n",
            "Cocofit                95.0\n",
            "UnStop                 90.0\n",
            "MidNightAngelsByPC     83.0\n",
            "Auli                   80.0\n",
            "LeafyAffair            80.0\n",
            "Pflow                  80.0\n",
            "ekatra                 80.0\n",
            "oyehappy               80.0\n",
            "Name: Gross Margin, dtype: float64\n"
          ]
        },
        {
          "output_type": "display_data",
          "data": {
            "text/html": [
              "<html>\n",
              "<head><meta charset=\"utf-8\" /></head>\n",
              "<body>\n",
              "    <div>            <script src=\"https://cdnjs.cloudflare.com/ajax/libs/mathjax/2.7.5/MathJax.js?config=TeX-AMS-MML_SVG\"></script><script type=\"text/javascript\">if (window.MathJax && window.MathJax.Hub && window.MathJax.Hub.Config) {window.MathJax.Hub.Config({SVG: {font: \"STIX-Web\"}});}</script>                <script type=\"text/javascript\">window.PlotlyConfig = {MathJaxConfig: 'local'};</script>\n",
              "        <script charset=\"utf-8\" src=\"https://cdn.plot.ly/plotly-2.24.1.min.js\"></script>                <div id=\"35bf7c92-2a07-45ba-85aa-51716dfe004d\" class=\"plotly-graph-div\" style=\"height:525px; width:100%;\"></div>            <script type=\"text/javascript\">                                    window.PLOTLYENV=window.PLOTLYENV || {};                                    if (document.getElementById(\"35bf7c92-2a07-45ba-85aa-51716dfe004d\")) {                    Plotly.newPlot(                        \"35bf7c92-2a07-45ba-85aa-51716dfe004d\",                        [{\"alignmentgroup\":\"True\",\"hovertemplate\":\"Startup Name=%{x}\\u003cbr\\u003eGross Margin=%{y}\\u003cextra\\u003e\\u003c\\u002fextra\\u003e\",\"legendgroup\":\"Poo-de-Cologne\",\"marker\":{\"color\":\"#636efa\",\"pattern\":{\"shape\":\"\"}},\"name\":\"Poo-de-Cologne\",\"offsetgroup\":\"Poo-de-Cologne\",\"orientation\":\"v\",\"showlegend\":true,\"textposition\":\"auto\",\"x\":[\"Poo-de-Cologne\"],\"xaxis\":\"x\",\"y\":[150.0],\"yaxis\":\"y\",\"type\":\"bar\"},{\"alignmentgroup\":\"True\",\"hovertemplate\":\"Startup Name=%{x}\\u003cbr\\u003eGross Margin=%{y}\\u003cextra\\u003e\\u003c\\u002fextra\\u003e\",\"legendgroup\":\"Farda\",\"marker\":{\"color\":\"#EF553B\",\"pattern\":{\"shape\":\"\"}},\"name\":\"Farda\",\"offsetgroup\":\"Farda\",\"orientation\":\"v\",\"showlegend\":true,\"textposition\":\"auto\",\"x\":[\"Farda\"],\"xaxis\":\"x\",\"y\":[115.0],\"yaxis\":\"y\",\"type\":\"bar\"},{\"alignmentgroup\":\"True\",\"hovertemplate\":\"Startup Name=%{x}\\u003cbr\\u003eGross Margin=%{y}\\u003cextra\\u003e\\u003c\\u002fextra\\u003e\",\"legendgroup\":\"Cocofit\",\"marker\":{\"color\":\"#00cc96\",\"pattern\":{\"shape\":\"\"}},\"name\":\"Cocofit\",\"offsetgroup\":\"Cocofit\",\"orientation\":\"v\",\"showlegend\":true,\"textposition\":\"auto\",\"x\":[\"Cocofit\"],\"xaxis\":\"x\",\"y\":[95.0],\"yaxis\":\"y\",\"type\":\"bar\"},{\"alignmentgroup\":\"True\",\"hovertemplate\":\"Startup Name=%{x}\\u003cbr\\u003eGross Margin=%{y}\\u003cextra\\u003e\\u003c\\u002fextra\\u003e\",\"legendgroup\":\"UnStop\",\"marker\":{\"color\":\"#ab63fa\",\"pattern\":{\"shape\":\"\"}},\"name\":\"UnStop\",\"offsetgroup\":\"UnStop\",\"orientation\":\"v\",\"showlegend\":true,\"textposition\":\"auto\",\"x\":[\"UnStop\"],\"xaxis\":\"x\",\"y\":[90.0],\"yaxis\":\"y\",\"type\":\"bar\"},{\"alignmentgroup\":\"True\",\"hovertemplate\":\"Startup Name=%{x}\\u003cbr\\u003eGross Margin=%{y}\\u003cextra\\u003e\\u003c\\u002fextra\\u003e\",\"legendgroup\":\"MidNightAngelsByPC\",\"marker\":{\"color\":\"#FFA15A\",\"pattern\":{\"shape\":\"\"}},\"name\":\"MidNightAngelsByPC\",\"offsetgroup\":\"MidNightAngelsByPC\",\"orientation\":\"v\",\"showlegend\":true,\"textposition\":\"auto\",\"x\":[\"MidNightAngelsByPC\"],\"xaxis\":\"x\",\"y\":[83.0],\"yaxis\":\"y\",\"type\":\"bar\"},{\"alignmentgroup\":\"True\",\"hovertemplate\":\"Startup Name=%{x}\\u003cbr\\u003eGross Margin=%{y}\\u003cextra\\u003e\\u003c\\u002fextra\\u003e\",\"legendgroup\":\"Pflow\",\"marker\":{\"color\":\"#19d3f3\",\"pattern\":{\"shape\":\"\"}},\"name\":\"Pflow\",\"offsetgroup\":\"Pflow\",\"orientation\":\"v\",\"showlegend\":true,\"textposition\":\"auto\",\"x\":[\"Pflow\"],\"xaxis\":\"x\",\"y\":[80.0],\"yaxis\":\"y\",\"type\":\"bar\"},{\"alignmentgroup\":\"True\",\"hovertemplate\":\"Startup Name=%{x}\\u003cbr\\u003eGross Margin=%{y}\\u003cextra\\u003e\\u003c\\u002fextra\\u003e\",\"legendgroup\":\"LeafyAffair\",\"marker\":{\"color\":\"#FF6692\",\"pattern\":{\"shape\":\"\"}},\"name\":\"LeafyAffair\",\"offsetgroup\":\"LeafyAffair\",\"orientation\":\"v\",\"showlegend\":true,\"textposition\":\"auto\",\"x\":[\"LeafyAffair\"],\"xaxis\":\"x\",\"y\":[80.0],\"yaxis\":\"y\",\"type\":\"bar\"},{\"alignmentgroup\":\"True\",\"hovertemplate\":\"Startup Name=%{x}\\u003cbr\\u003eGross Margin=%{y}\\u003cextra\\u003e\\u003c\\u002fextra\\u003e\",\"legendgroup\":\"ekatra\",\"marker\":{\"color\":\"#B6E880\",\"pattern\":{\"shape\":\"\"}},\"name\":\"ekatra\",\"offsetgroup\":\"ekatra\",\"orientation\":\"v\",\"showlegend\":true,\"textposition\":\"auto\",\"x\":[\"ekatra\"],\"xaxis\":\"x\",\"y\":[80.0],\"yaxis\":\"y\",\"type\":\"bar\"},{\"alignmentgroup\":\"True\",\"hovertemplate\":\"Startup Name=%{x}\\u003cbr\\u003eGross Margin=%{y}\\u003cextra\\u003e\\u003c\\u002fextra\\u003e\",\"legendgroup\":\"oyehappy\",\"marker\":{\"color\":\"#FF97FF\",\"pattern\":{\"shape\":\"\"}},\"name\":\"oyehappy\",\"offsetgroup\":\"oyehappy\",\"orientation\":\"v\",\"showlegend\":true,\"textposition\":\"auto\",\"x\":[\"oyehappy\"],\"xaxis\":\"x\",\"y\":[80.0],\"yaxis\":\"y\",\"type\":\"bar\"},{\"alignmentgroup\":\"True\",\"hovertemplate\":\"Startup Name=%{x}\\u003cbr\\u003eGross Margin=%{y}\\u003cextra\\u003e\\u003c\\u002fextra\\u003e\",\"legendgroup\":\"Auli\",\"marker\":{\"color\":\"#FECB52\",\"pattern\":{\"shape\":\"\"}},\"name\":\"Auli\",\"offsetgroup\":\"Auli\",\"orientation\":\"v\",\"showlegend\":true,\"textposition\":\"auto\",\"x\":[\"Auli\"],\"xaxis\":\"x\",\"y\":[80.0],\"yaxis\":\"y\",\"type\":\"bar\"}],                        {\"template\":{\"data\":{\"histogram2dcontour\":[{\"type\":\"histogram2dcontour\",\"colorbar\":{\"outlinewidth\":0,\"ticks\":\"\"},\"colorscale\":[[0.0,\"#0d0887\"],[0.1111111111111111,\"#46039f\"],[0.2222222222222222,\"#7201a8\"],[0.3333333333333333,\"#9c179e\"],[0.4444444444444444,\"#bd3786\"],[0.5555555555555556,\"#d8576b\"],[0.6666666666666666,\"#ed7953\"],[0.7777777777777778,\"#fb9f3a\"],[0.8888888888888888,\"#fdca26\"],[1.0,\"#f0f921\"]]}],\"choropleth\":[{\"type\":\"choropleth\",\"colorbar\":{\"outlinewidth\":0,\"ticks\":\"\"}}],\"histogram2d\":[{\"type\":\"histogram2d\",\"colorbar\":{\"outlinewidth\":0,\"ticks\":\"\"},\"colorscale\":[[0.0,\"#0d0887\"],[0.1111111111111111,\"#46039f\"],[0.2222222222222222,\"#7201a8\"],[0.3333333333333333,\"#9c179e\"],[0.4444444444444444,\"#bd3786\"],[0.5555555555555556,\"#d8576b\"],[0.6666666666666666,\"#ed7953\"],[0.7777777777777778,\"#fb9f3a\"],[0.8888888888888888,\"#fdca26\"],[1.0,\"#f0f921\"]]}],\"heatmap\":[{\"type\":\"heatmap\",\"colorbar\":{\"outlinewidth\":0,\"ticks\":\"\"},\"colorscale\":[[0.0,\"#0d0887\"],[0.1111111111111111,\"#46039f\"],[0.2222222222222222,\"#7201a8\"],[0.3333333333333333,\"#9c179e\"],[0.4444444444444444,\"#bd3786\"],[0.5555555555555556,\"#d8576b\"],[0.6666666666666666,\"#ed7953\"],[0.7777777777777778,\"#fb9f3a\"],[0.8888888888888888,\"#fdca26\"],[1.0,\"#f0f921\"]]}],\"heatmapgl\":[{\"type\":\"heatmapgl\",\"colorbar\":{\"outlinewidth\":0,\"ticks\":\"\"},\"colorscale\":[[0.0,\"#0d0887\"],[0.1111111111111111,\"#46039f\"],[0.2222222222222222,\"#7201a8\"],[0.3333333333333333,\"#9c179e\"],[0.4444444444444444,\"#bd3786\"],[0.5555555555555556,\"#d8576b\"],[0.6666666666666666,\"#ed7953\"],[0.7777777777777778,\"#fb9f3a\"],[0.8888888888888888,\"#fdca26\"],[1.0,\"#f0f921\"]]}],\"contourcarpet\":[{\"type\":\"contourcarpet\",\"colorbar\":{\"outlinewidth\":0,\"ticks\":\"\"}}],\"contour\":[{\"type\":\"contour\",\"colorbar\":{\"outlinewidth\":0,\"ticks\":\"\"},\"colorscale\":[[0.0,\"#0d0887\"],[0.1111111111111111,\"#46039f\"],[0.2222222222222222,\"#7201a8\"],[0.3333333333333333,\"#9c179e\"],[0.4444444444444444,\"#bd3786\"],[0.5555555555555556,\"#d8576b\"],[0.6666666666666666,\"#ed7953\"],[0.7777777777777778,\"#fb9f3a\"],[0.8888888888888888,\"#fdca26\"],[1.0,\"#f0f921\"]]}],\"surface\":[{\"type\":\"surface\",\"colorbar\":{\"outlinewidth\":0,\"ticks\":\"\"},\"colorscale\":[[0.0,\"#0d0887\"],[0.1111111111111111,\"#46039f\"],[0.2222222222222222,\"#7201a8\"],[0.3333333333333333,\"#9c179e\"],[0.4444444444444444,\"#bd3786\"],[0.5555555555555556,\"#d8576b\"],[0.6666666666666666,\"#ed7953\"],[0.7777777777777778,\"#fb9f3a\"],[0.8888888888888888,\"#fdca26\"],[1.0,\"#f0f921\"]]}],\"mesh3d\":[{\"type\":\"mesh3d\",\"colorbar\":{\"outlinewidth\":0,\"ticks\":\"\"}}],\"scatter\":[{\"fillpattern\":{\"fillmode\":\"overlay\",\"size\":10,\"solidity\":0.2},\"type\":\"scatter\"}],\"parcoords\":[{\"type\":\"parcoords\",\"line\":{\"colorbar\":{\"outlinewidth\":0,\"ticks\":\"\"}}}],\"scatterpolargl\":[{\"type\":\"scatterpolargl\",\"marker\":{\"colorbar\":{\"outlinewidth\":0,\"ticks\":\"\"}}}],\"bar\":[{\"error_x\":{\"color\":\"#2a3f5f\"},\"error_y\":{\"color\":\"#2a3f5f\"},\"marker\":{\"line\":{\"color\":\"#E5ECF6\",\"width\":0.5},\"pattern\":{\"fillmode\":\"overlay\",\"size\":10,\"solidity\":0.2}},\"type\":\"bar\"}],\"scattergeo\":[{\"type\":\"scattergeo\",\"marker\":{\"colorbar\":{\"outlinewidth\":0,\"ticks\":\"\"}}}],\"scatterpolar\":[{\"type\":\"scatterpolar\",\"marker\":{\"colorbar\":{\"outlinewidth\":0,\"ticks\":\"\"}}}],\"histogram\":[{\"marker\":{\"pattern\":{\"fillmode\":\"overlay\",\"size\":10,\"solidity\":0.2}},\"type\":\"histogram\"}],\"scattergl\":[{\"type\":\"scattergl\",\"marker\":{\"colorbar\":{\"outlinewidth\":0,\"ticks\":\"\"}}}],\"scatter3d\":[{\"type\":\"scatter3d\",\"line\":{\"colorbar\":{\"outlinewidth\":0,\"ticks\":\"\"}},\"marker\":{\"colorbar\":{\"outlinewidth\":0,\"ticks\":\"\"}}}],\"scattermapbox\":[{\"type\":\"scattermapbox\",\"marker\":{\"colorbar\":{\"outlinewidth\":0,\"ticks\":\"\"}}}],\"scatterternary\":[{\"type\":\"scatterternary\",\"marker\":{\"colorbar\":{\"outlinewidth\":0,\"ticks\":\"\"}}}],\"scattercarpet\":[{\"type\":\"scattercarpet\",\"marker\":{\"colorbar\":{\"outlinewidth\":0,\"ticks\":\"\"}}}],\"carpet\":[{\"aaxis\":{\"endlinecolor\":\"#2a3f5f\",\"gridcolor\":\"white\",\"linecolor\":\"white\",\"minorgridcolor\":\"white\",\"startlinecolor\":\"#2a3f5f\"},\"baxis\":{\"endlinecolor\":\"#2a3f5f\",\"gridcolor\":\"white\",\"linecolor\":\"white\",\"minorgridcolor\":\"white\",\"startlinecolor\":\"#2a3f5f\"},\"type\":\"carpet\"}],\"table\":[{\"cells\":{\"fill\":{\"color\":\"#EBF0F8\"},\"line\":{\"color\":\"white\"}},\"header\":{\"fill\":{\"color\":\"#C8D4E3\"},\"line\":{\"color\":\"white\"}},\"type\":\"table\"}],\"barpolar\":[{\"marker\":{\"line\":{\"color\":\"#E5ECF6\",\"width\":0.5},\"pattern\":{\"fillmode\":\"overlay\",\"size\":10,\"solidity\":0.2}},\"type\":\"barpolar\"}],\"pie\":[{\"automargin\":true,\"type\":\"pie\"}]},\"layout\":{\"autotypenumbers\":\"strict\",\"colorway\":[\"#636efa\",\"#EF553B\",\"#00cc96\",\"#ab63fa\",\"#FFA15A\",\"#19d3f3\",\"#FF6692\",\"#B6E880\",\"#FF97FF\",\"#FECB52\"],\"font\":{\"color\":\"#2a3f5f\"},\"hovermode\":\"closest\",\"hoverlabel\":{\"align\":\"left\"},\"paper_bgcolor\":\"white\",\"plot_bgcolor\":\"#E5ECF6\",\"polar\":{\"bgcolor\":\"#E5ECF6\",\"angularaxis\":{\"gridcolor\":\"white\",\"linecolor\":\"white\",\"ticks\":\"\"},\"radialaxis\":{\"gridcolor\":\"white\",\"linecolor\":\"white\",\"ticks\":\"\"}},\"ternary\":{\"bgcolor\":\"#E5ECF6\",\"aaxis\":{\"gridcolor\":\"white\",\"linecolor\":\"white\",\"ticks\":\"\"},\"baxis\":{\"gridcolor\":\"white\",\"linecolor\":\"white\",\"ticks\":\"\"},\"caxis\":{\"gridcolor\":\"white\",\"linecolor\":\"white\",\"ticks\":\"\"}},\"coloraxis\":{\"colorbar\":{\"outlinewidth\":0,\"ticks\":\"\"}},\"colorscale\":{\"sequential\":[[0.0,\"#0d0887\"],[0.1111111111111111,\"#46039f\"],[0.2222222222222222,\"#7201a8\"],[0.3333333333333333,\"#9c179e\"],[0.4444444444444444,\"#bd3786\"],[0.5555555555555556,\"#d8576b\"],[0.6666666666666666,\"#ed7953\"],[0.7777777777777778,\"#fb9f3a\"],[0.8888888888888888,\"#fdca26\"],[1.0,\"#f0f921\"]],\"sequentialminus\":[[0.0,\"#0d0887\"],[0.1111111111111111,\"#46039f\"],[0.2222222222222222,\"#7201a8\"],[0.3333333333333333,\"#9c179e\"],[0.4444444444444444,\"#bd3786\"],[0.5555555555555556,\"#d8576b\"],[0.6666666666666666,\"#ed7953\"],[0.7777777777777778,\"#fb9f3a\"],[0.8888888888888888,\"#fdca26\"],[1.0,\"#f0f921\"]],\"diverging\":[[0,\"#8e0152\"],[0.1,\"#c51b7d\"],[0.2,\"#de77ae\"],[0.3,\"#f1b6da\"],[0.4,\"#fde0ef\"],[0.5,\"#f7f7f7\"],[0.6,\"#e6f5d0\"],[0.7,\"#b8e186\"],[0.8,\"#7fbc41\"],[0.9,\"#4d9221\"],[1,\"#276419\"]]},\"xaxis\":{\"gridcolor\":\"white\",\"linecolor\":\"white\",\"ticks\":\"\",\"title\":{\"standoff\":15},\"zerolinecolor\":\"white\",\"automargin\":true,\"zerolinewidth\":2},\"yaxis\":{\"gridcolor\":\"white\",\"linecolor\":\"white\",\"ticks\":\"\",\"title\":{\"standoff\":15},\"zerolinecolor\":\"white\",\"automargin\":true,\"zerolinewidth\":2},\"scene\":{\"xaxis\":{\"backgroundcolor\":\"#E5ECF6\",\"gridcolor\":\"white\",\"linecolor\":\"white\",\"showbackground\":true,\"ticks\":\"\",\"zerolinecolor\":\"white\",\"gridwidth\":2},\"yaxis\":{\"backgroundcolor\":\"#E5ECF6\",\"gridcolor\":\"white\",\"linecolor\":\"white\",\"showbackground\":true,\"ticks\":\"\",\"zerolinecolor\":\"white\",\"gridwidth\":2},\"zaxis\":{\"backgroundcolor\":\"#E5ECF6\",\"gridcolor\":\"white\",\"linecolor\":\"white\",\"showbackground\":true,\"ticks\":\"\",\"zerolinecolor\":\"white\",\"gridwidth\":2}},\"shapedefaults\":{\"line\":{\"color\":\"#2a3f5f\"}},\"annotationdefaults\":{\"arrowcolor\":\"#2a3f5f\",\"arrowhead\":0,\"arrowwidth\":1},\"geo\":{\"bgcolor\":\"white\",\"landcolor\":\"#E5ECF6\",\"subunitcolor\":\"white\",\"showland\":true,\"showlakes\":true,\"lakecolor\":\"white\"},\"title\":{\"x\":0.05},\"mapbox\":{\"style\":\"light\"}}},\"xaxis\":{\"anchor\":\"y\",\"domain\":[0.0,1.0],\"title\":{\"text\":\"Startup Name\"},\"categoryorder\":\"array\",\"categoryarray\":[\"Poo-de-Cologne\",\"Farda\",\"Cocofit\",\"UnStop\",\"MidNightAngelsByPC\",\"Pflow\",\"LeafyAffair\",\"ekatra\",\"oyehappy\",\"Auli\"]},\"yaxis\":{\"anchor\":\"x\",\"domain\":[0.0,1.0],\"title\":{\"text\":\"Gross Margin\"}},\"legend\":{\"title\":{\"text\":\"Startup Name\"},\"tracegroupgap\":0},\"title\":{\"text\":\"Highest Gross Margins Of the Brands\"},\"barmode\":\"relative\"},                        {\"responsive\": true}                    ).then(function(){\n",
              "                            \n",
              "var gd = document.getElementById('35bf7c92-2a07-45ba-85aa-51716dfe004d');\n",
              "var x = new MutationObserver(function (mutations, observer) {{\n",
              "        var display = window.getComputedStyle(gd).display;\n",
              "        if (!display || display === 'none') {{\n",
              "            console.log([gd, 'removed!']);\n",
              "            Plotly.purge(gd);\n",
              "            observer.disconnect();\n",
              "        }}\n",
              "}});\n",
              "\n",
              "// Listen for the removal of the full notebook cells\n",
              "var notebookContainer = gd.closest('#notebook-container');\n",
              "if (notebookContainer) {{\n",
              "    x.observe(notebookContainer, {childList: true});\n",
              "}}\n",
              "\n",
              "// Listen for the clearing of the current output cell\n",
              "var outputEl = gd.closest('.output');\n",
              "if (outputEl) {{\n",
              "    x.observe(outputEl, {childList: true});\n",
              "}}\n",
              "\n",
              "                        })                };                            </script>        </div>\n",
              "</body>\n",
              "</html>"
            ]
          },
          "metadata": {}
        }
      ]
    },
    {
      "cell_type": "markdown",
      "source": [
        "How many accepted or rejected sharks offer\n"
      ],
      "metadata": {
        "id": "ygEnnp5OYx9X"
      }
    },
    {
      "cell_type": "code",
      "source": [
        "\n",
        "import pandas as pd\n",
        "import seaborn as sns\n",
        "\n",
        "\n",
        "\n",
        "\n",
        "\n",
        "print(round(df['Received Offer'].value_counts(normalize=True)*100).astype(str).str.replace('.0','%'))\n",
        "sns.countplot(x='Received Offer',data=df,palette='deep')"
      ],
      "metadata": {
        "colab": {
          "base_uri": "https://localhost:8080/",
          "height": 588
        },
        "id": "y1sGOx9OY5lf",
        "outputId": "3839f425-543e-434f-9c44-e14912d471a6"
      },
      "execution_count": null,
      "outputs": [
        {
          "output_type": "stream",
          "name": "stdout",
          "text": [
            "1    68%\n",
            "0    32%\n",
            "Name: Received Offer, dtype: object\n"
          ]
        },
        {
          "output_type": "stream",
          "name": "stderr",
          "text": [
            "<ipython-input-16-8c7384d617d4>:8: FutureWarning:\n",
            "\n",
            "The default value of regex will change from True to False in a future version.\n",
            "\n"
          ]
        },
        {
          "output_type": "execute_result",
          "data": {
            "text/plain": [
              "<Axes: xlabel='Received Offer', ylabel='count'>"
            ]
          },
          "metadata": {},
          "execution_count": 16
        },
        {
          "output_type": "display_data",
          "data": {
            "text/plain": [
              "<Figure size 640x480 with 1 Axes>"
            ],
            "image/png": "[encoded data removed]"
          },
          "metadata": {}
        }
      ]
    },
    {
      "cell_type": "markdown",
      "source": [
        "How many accepted or rejected shark offer"
      ],
      "metadata": {
        "id": "HjqbT7BsbN2X"
      }
    },
    {
      "cell_type": "code",
      "source": [
        "\n",
        "import pandas as pd\n",
        "import seaborn as sns\n",
        "\n",
        "\n",
        "\n",
        "\n",
        "\n",
        "print(round(df['Accepted Offer'].value_counts(normalize=True)*100).astype(str).str.replace('.0','%'))\n",
        "sns.countplot(x='Accepted Offer',data=df,palette='viridis')"
      ],
      "metadata": {
        "colab": {
          "base_uri": "https://localhost:8080/",
          "height": 588
        },
        "id": "nkWS9uXUcI1-",
        "outputId": "4ee1d0cf-fc44-4136-c9ca-b62e08bfd872"
      },
      "execution_count": null,
      "outputs": [
        {
          "output_type": "stream",
          "name": "stdout",
          "text": [
            "1.0    81%\n",
            "0.0    19%\n",
            "Name: Accepted Offer, dtype: object\n"
          ]
        },
        {
          "output_type": "stream",
          "name": "stderr",
          "text": [
            "<ipython-input-17-e1f7f923a3d2>:8: FutureWarning:\n",
            "\n",
            "The default value of regex will change from True to False in a future version.\n",
            "\n"
          ]
        },
        {
          "output_type": "execute_result",
          "data": {
            "text/plain": [
              "<Axes: xlabel='Accepted Offer', ylabel='count'>"
            ]
          },
          "metadata": {},
          "execution_count": 17
        },
        {
          "output_type": "display_data",
          "data": {
            "text/plain": [
              "<Figure size 640x480 with 1 Axes>"
            ],
            "image/png": "[encoded data removed]"
          },
          "metadata": {}
        }
      ]
    },
    {
      "cell_type": "markdown",
      "source": [
        "Startup companies who rejected sharks offer\n"
      ],
      "metadata": {
        "id": "Cn7K2ew8cx1p"
      }
    },
    {
      "cell_type": "code",
      "source": [
        "df.loc[df['Accepted Offer']==0,['Startup Name','Original Ask Amount','Original Offered Equity','Valuation Requested']]"
      ],
      "metadata": {
        "colab": {
          "base_uri": "https://localhost:8080/",
          "height": 1000
        },
        "id": "s-klCui1c3HG",
        "outputId": "e2bf555d-6f57-4242-ffc5-e24a8403b18a"
      },
      "execution_count": null,
      "outputs": [
        {
          "output_type": "execute_result",
          "data": {
            "text/plain": [
              "           Startup Name  Original Ask Amount  Original Offered Equity  \\\n",
              "6            qZenseLabs                100.0                     0.25   \n",
              "19             Torch-it                 75.0                     1.00   \n",
              "21          LaKheerDeli                 50.0                     7.50   \n",
              "27        KabiraHandmad                100.0                     5.00   \n",
              "41     MorrikoPureFoods                100.0                     3.00   \n",
              "55       IndiaHempandCo                 50.0                     4.00   \n",
              "60            KetoIndia                150.0                     1.25   \n",
              "70            Moonshine                 80.0                     0.50   \n",
              "71              Falhari                 50.0                     2.00   \n",
              "73          UrbanMonkey                100.0                     1.00   \n",
              "74        GuardianGears                 30.0                     5.00   \n",
              "81               Alpino                150.0                     2.00   \n",
              "87   AlisteTechnologies                 60.0                     5.00   \n",
              "93            PDDFalcon                 75.0                     3.00   \n",
              "94            PlayBoxTV                100.0                     3.50   \n",
              "104      ExperentialEtc                200.0                     4.00   \n",
              "106          C3Med-Tech                 35.0                     6.00   \n",
              "113        GreenProtein                 60.0                     2.00   \n",
              "116               Woloo                 50.0                     4.00   \n",
              "119         FrenchCrown                150.0                     0.33   \n",
              "121            Devnagri                100.0                     1.00   \n",
              "131           Scintiglo                 75.0                     1.00   \n",
              "135           UrbanNaps                 50.0                     4.00   \n",
              "138            Picsniff                 55.0                     1.00   \n",
              "149             Artment                170.0                     2.50   \n",
              "151                Eume                150.0                     2.00   \n",
              "158          ATMOSPHERE                 75.0                     3.00   \n",
              "165           Flatheads                 75.0                     3.00   \n",
              "189             Diabexy                150.0                     1.00   \n",
              "199        AvimeeHerbal                280.0                     0.50   \n",
              "206                 PMV                100.0                     1.00   \n",
              "212      CheeseCake&Co.                100.0                     2.00   \n",
              "215              BeUnic                100.0                    10.00   \n",
              "229          GavinParis                 50.0                     5.00   \n",
              "233          HobbyIndia                 50.0                     3.00   \n",
              "237            DesiToys                 50.0                     3.00   \n",
              "245              Tipayi                 50.0                    10.00   \n",
              "256  MidNightAngelsByPC                 75.0                     6.00   \n",
              "278      TwistingScoops                100.0                     2.50   \n",
              "316              GODESi                 90.0                     0.50   \n",
              "\n",
              "     Valuation Requested  \n",
              "6           40000.000000  \n",
              "19           7500.000000  \n",
              "21            667.000000  \n",
              "27           2000.000000  \n",
              "41           3333.000000  \n",
              "55           1250.000000  \n",
              "60          12000.000000  \n",
              "70          16000.000000  \n",
              "71           2500.000000  \n",
              "73          10000.000000  \n",
              "74            600.000000  \n",
              "81           7500.000000  \n",
              "87           1200.000000  \n",
              "93           2500.000000  \n",
              "94           2857.000000  \n",
              "104          5000.000000  \n",
              "106           583.000000  \n",
              "113          3000.000000  \n",
              "116          1250.000000  \n",
              "119         45455.000000  \n",
              "121         10000.000000  \n",
              "131          7500.000000  \n",
              "135          1250.000000  \n",
              "138          5500.000000  \n",
              "149          6800.000000  \n",
              "151          7500.000000  \n",
              "158          2500.000000  \n",
              "165          2500.000000  \n",
              "189         15000.000000  \n",
              "199         56000.000000  \n",
              "206         10000.000000  \n",
              "212          5000.000000  \n",
              "215          1000.000000  \n",
              "229          1000.000000  \n",
              "233          1666.666667  \n",
              "237          1666.666667  \n",
              "245           500.000000  \n",
              "256          1250.000000  \n",
              "278          4000.000000  \n",
              "316         18000.000000  "
            ],
            "text/html": [
              "\n",
              "  <div id=\"df-2357f1f0-0c4a-4473-89e5-f4849eebfc61\" class=\"colab-df-container\">\n",
              "    <div>\n",
              "<style scoped>\n",
              "    .dataframe tbody tr th:only-of-type {\n",
              "        vertical-align: middle;\n",
              "    }\n",
              "\n",
              "    .dataframe tbody tr th {\n",
              "        vertical-align: top;\n",
              "    }\n",
              "\n",
              "    .dataframe thead th {\n",
              "        text-align: right;\n",
              "    }\n",
              "</style>\n",
              "<table border=\"1\" class=\"dataframe\">\n",
              "  <thead>\n",
              "    <tr style=\"text-align: right;\">\n",
              "      <th></th>\n",
              "      <th>Startup Name</th>\n",
              "      <th>Original Ask Amount</th>\n",
              "      <th>Original Offered Equity</th>\n",
              "      <th>Valuation Requested</th>\n",
              "    </tr>\n",
              "  </thead>\n",
              "  <tbody>\n",
              "    <tr>\n",
              "      <th>6</th>\n",
              "      <td>qZenseLabs</td>\n",
              "      <td>100.0</td>\n",
              "      <td>0.25</td>\n",
              "      <td>40000.000000</td>\n",
              "    </tr>\n",
              "    <tr>\n",
              "      <th>19</th>\n",
              "      <td>Torch-it</td>\n",
              "      <td>75.0</td>\n",
              "      <td>1.00</td>\n",
              "      <td>7500.000000</td>\n",
              "    </tr>\n",
              "    <tr>\n",
              "      <th>21</th>\n",
              "      <td>LaKheerDeli</td>\n",
              "      <td>50.0</td>\n",
              "      <td>7.50</td>\n",
              "      <td>667.000000</td>\n",
              "    </tr>\n",
              "    <tr>\n",
              "      <th>27</th>\n",
              "      <td>KabiraHandmad</td>\n",
              "      <td>100.0</td>\n",
              "      <td>5.00</td>\n",
              "      <td>2000.000000</td>\n",
              "    </tr>\n",
              "    <tr>\n",
              "      <th>41</th>\n",
              "      <td>MorrikoPureFoods</td>\n",
              "      <td>100.0</td>\n",
              "      <td>3.00</td>\n",
              "      <td>3333.000000</td>\n",
              "    </tr>\n",
              "    <tr>\n",
              "      <th>55</th>\n",
              "      <td>IndiaHempandCo</td>\n",
              "      <td>50.0</td>\n",
              "      <td>4.00</td>\n",
              "      <td>1250.000000</td>\n",
              "    </tr>\n",
              "    <tr>\n",
              "      <th>60</th>\n",
              "      <td>KetoIndia</td>\n",
              "      <td>150.0</td>\n",
              "      <td>1.25</td>\n",
              "      <td>12000.000000</td>\n",
              "    </tr>\n",
              "    <tr>\n",
              "      <th>70</th>\n",
              "      <td>Moonshine</td>\n",
              "      <td>80.0</td>\n",
              "      <td>0.50</td>\n",
              "      <td>16000.000000</td>\n",
              "    </tr>\n",
              "    <tr>\n",
              "      <th>71</th>\n",
              "      <td>Falhari</td>\n",
              "      <td>50.0</td>\n",
              "      <td>2.00</td>\n",
              "      <td>2500.000000</td>\n",
              "    </tr>\n",
              "    <tr>\n",
              "      <th>73</th>\n",
              "      <td>UrbanMonkey</td>\n",
              "      <td>100.0</td>\n",
              "      <td>1.00</td>\n",
              "      <td>10000.000000</td>\n",
              "    </tr>\n",
              "    <tr>\n",
              "      <th>74</th>\n",
              "      <td>GuardianGears</td>\n",
              "      <td>30.0</td>\n",
              "      <td>5.00</td>\n",
              "      <td>600.000000</td>\n",
              "    </tr>\n",
              "    <tr>\n",
              "      <th>81</th>\n",
              "      <td>Alpino</td>\n",
              "      <td>150.0</td>\n",
              "      <td>2.00</td>\n",
              "      <td>7500.000000</td>\n",
              "    </tr>\n",
              "    <tr>\n",
              "      <th>87</th>\n",
              "      <td>AlisteTechnologies</td>\n",
              "      <td>60.0</td>\n",
              "      <td>5.00</td>\n",
              "      <td>1200.000000</td>\n",
              "    </tr>\n",
              "    <tr>\n",
              "      <th>93</th>\n",
              "      <td>PDDFalcon</td>\n",
              "      <td>75.0</td>\n",
              "      <td>3.00</td>\n",
              "      <td>2500.000000</td>\n",
              "    </tr>\n",
              "    <tr>\n",
              "      <th>94</th>\n",
              "      <td>PlayBoxTV</td>\n",
              "      <td>100.0</td>\n",
              "      <td>3.50</td>\n",
              "      <td>2857.000000</td>\n",
              "    </tr>\n",
              "    <tr>\n",
              "      <th>104</th>\n",
              "      <td>ExperentialEtc</td>\n",
              "      <td>200.0</td>\n",
              "      <td>4.00</td>\n",
              "      <td>5000.000000</td>\n",
              "    </tr>\n",
              "    <tr>\n",
              "      <th>106</th>\n",
              "      <td>C3Med-Tech</td>\n",
              "      <td>35.0</td>\n",
              "      <td>6.00</td>\n",
              "      <td>583.000000</td>\n",
              "    </tr>\n",
              "    <tr>\n",
              "      <th>113</th>\n",
              "      <td>GreenProtein</td>\n",
              "      <td>60.0</td>\n",
              "      <td>2.00</td>\n",
              "      <td>3000.000000</td>\n",
              "    </tr>\n",
              "    <tr>\n",
              "      <th>116</th>\n",
              "      <td>Woloo</td>\n",
              "      <td>50.0</td>\n",
              "      <td>4.00</td>\n",
              "      <td>1250.000000</td>\n",
              "    </tr>\n",
              "    <tr>\n",
              "      <th>119</th>\n",
              "      <td>FrenchCrown</td>\n",
              "      <td>150.0</td>\n",
              "      <td>0.33</td>\n",
              "      <td>45455.000000</td>\n",
              "    </tr>\n",
              "    <tr>\n",
              "      <th>121</th>\n",
              "      <td>Devnagri</td>\n",
              "      <td>100.0</td>\n",
              "      <td>1.00</td>\n",
              "      <td>10000.000000</td>\n",
              "    </tr>\n",
              "    <tr>\n",
              "      <th>131</th>\n",
              "      <td>Scintiglo</td>\n",
              "      <td>75.0</td>\n",
              "      <td>1.00</td>\n",
              "      <td>7500.000000</td>\n",
              "    </tr>\n",
              "    <tr>\n",
              "      <th>135</th>\n",
              "      <td>UrbanNaps</td>\n",
              "      <td>50.0</td>\n",
              "      <td>4.00</td>\n",
              "      <td>1250.000000</td>\n",
              "    </tr>\n",
              "    <tr>\n",
              "      <th>138</th>\n",
              "      <td>Picsniff</td>\n",
              "      <td>55.0</td>\n",
              "      <td>1.00</td>\n",
              "      <td>5500.000000</td>\n",
              "    </tr>\n",
              "    <tr>\n",
              "      <th>149</th>\n",
              "      <td>Artment</td>\n",
              "      <td>170.0</td>\n",
              "      <td>2.50</td>\n",
              "      <td>6800.000000</td>\n",
              "    </tr>\n",
              "    <tr>\n",
              "      <th>151</th>\n",
              "      <td>Eume</td>\n",
              "      <td>150.0</td>\n",
              "      <td>2.00</td>\n",
              "      <td>7500.000000</td>\n",
              "    </tr>\n",
              "    <tr>\n",
              "      <th>158</th>\n",
              "      <td>ATMOSPHERE</td>\n",
              "      <td>75.0</td>\n",
              "      <td>3.00</td>\n",
              "      <td>2500.000000</td>\n",
              "    </tr>\n",
              "    <tr>\n",
              "      <th>165</th>\n",
              "      <td>Flatheads</td>\n",
              "      <td>75.0</td>\n",
              "      <td>3.00</td>\n",
              "      <td>2500.000000</td>\n",
              "    </tr>\n",
              "    <tr>\n",
              "      <th>189</th>\n",
              "      <td>Diabexy</td>\n",
              "      <td>150.0</td>\n",
              "      <td>1.00</td>\n",
              "      <td>15000.000000</td>\n",
              "    </tr>\n",
              "    <tr>\n",
              "      <th>199</th>\n",
              "      <td>AvimeeHerbal</td>\n",
              "      <td>280.0</td>\n",
              "      <td>0.50</td>\n",
              "      <td>56000.000000</td>\n",
              "    </tr>\n",
              "    <tr>\n",
              "      <th>206</th>\n",
              "      <td>PMV</td>\n",
              "      <td>100.0</td>\n",
              "      <td>1.00</td>\n",
              "      <td>10000.000000</td>\n",
              "    </tr>\n",
              "    <tr>\n",
              "      <th>212</th>\n",
              "      <td>CheeseCake&amp;Co.</td>\n",
              "      <td>100.0</td>\n",
              "      <td>2.00</td>\n",
              "      <td>5000.000000</td>\n",
              "    </tr>\n",
              "    <tr>\n",
              "      <th>215</th>\n",
              "      <td>BeUnic</td>\n",
              "      <td>100.0</td>\n",
              "      <td>10.00</td>\n",
              "      <td>1000.000000</td>\n",
              "    </tr>\n",
              "    <tr>\n",
              "      <th>229</th>\n",
              "      <td>GavinParis</td>\n",
              "      <td>50.0</td>\n",
              "      <td>5.00</td>\n",
              "      <td>1000.000000</td>\n",
              "    </tr>\n",
              "    <tr>\n",
              "      <th>233</th>\n",
              "      <td>HobbyIndia</td>\n",
              "      <td>50.0</td>\n",
              "      <td>3.00</td>\n",
              "      <td>1666.666667</td>\n",
              "    </tr>\n",
              "    <tr>\n",
              "      <th>237</th>\n",
              "      <td>DesiToys</td>\n",
              "      <td>50.0</td>\n",
              "      <td>3.00</td>\n",
              "      <td>1666.666667</td>\n",
              "    </tr>\n",
              "    <tr>\n",
              "      <th>245</th>\n",
              "      <td>Tipayi</td>\n",
              "      <td>50.0</td>\n",
              "      <td>10.00</td>\n",
              "      <td>500.000000</td>\n",
              "    </tr>\n",
              "    <tr>\n",
              "      <th>256</th>\n",
              "      <td>MidNightAngelsByPC</td>\n",
              "      <td>75.0</td>\n",
              "      <td>6.00</td>\n",
              "      <td>1250.000000</td>\n",
              "    </tr>\n",
              "    <tr>\n",
              "      <th>278</th>\n",
              "      <td>TwistingScoops</td>\n",
              "      <td>100.0</td>\n",
              "      <td>2.50</td>\n",
              "      <td>4000.000000</td>\n",
              "    </tr>\n",
              "    <tr>\n",
              "      <th>316</th>\n",
              "      <td>GODESi</td>\n",
              "      <td>90.0</td>\n",
              "      <td>0.50</td>\n",
              "      <td>18000.000000</td>\n",
              "    </tr>\n",
              "  </tbody>\n",
              "</table>\n",
              "</div>\n",
              "    <div class=\"colab-df-buttons\">\n",
              "\n",
              "  <div class=\"colab-df-container\">\n",
              "    <button class=\"colab-df-convert\" onclick=\"convertToInteractive('df-2357f1f0-0c4a-4473-89e5-f4849eebfc61')\"\n",
              "            title=\"Convert this dataframe to an interactive table.\"\n",
              "            style=\"display:none;\">\n",
              "\n",
              "  <svg xmlns=\"http://www.w3.org/2000/svg\" height=\"24px\" viewBox=\"0 -960 960 960\">\n",
              "    <path d=\"M120-120v-720h720v720H120Zm60-500h600v-160H180v160Zm220 220h160v-160H400v160Zm0 220h160v-160H400v160ZM180-400h160v-160H180v160Zm440 0h160v-160H620v160ZM180-180h160v-160H180v160Zm440 0h160v-160H620v160Z\"/>\n",
              "  </svg>\n",
              "    </button>\n",
              "\n",
              "  <style>\n",
              "    .colab-df-container {\n",
              "      display:flex;\n",
              "      gap: 12px;\n",
              "    }\n",
              "\n",
              "    .colab-df-convert {\n",
              "      background-color: #E8F0FE;\n",
              "      border: none;\n",
              "      border-radius: 50%;\n",
              "      cursor: pointer;\n",
              "      display: none;\n",
              "      fill: #1967D2;\n",
              "      height: 32px;\n",
              "      padding: 0 0 0 0;\n",
              "      width: 32px;\n",
              "    }\n",
              "\n",
              "    .colab-df-convert:hover {\n",
              "      background-color: #E2EBFA;\n",
              "      box-shadow: 0px 1px 2px rgba(60, 64, 67, 0.3), 0px 1px 3px 1px rgba(60, 64, 67, 0.15);\n",
              "      fill: #174EA6;\n",
              "    }\n",
              "\n",
              "    .colab-df-buttons div {\n",
              "      margin-bottom: 4px;\n",
              "    }\n",
              "\n",
              "    [theme=dark] .colab-df-convert {\n",
              "      background-color: #3B4455;\n",
              "      fill: #D2E3FC;\n",
              "    }\n",
              "\n",
              "    [theme=dark] .colab-df-convert:hover {\n",
              "      background-color: #434B5C;\n",
              "      box-shadow: 0px 1px 3px 1px rgba(0, 0, 0, 0.15);\n",
              "      filter: drop-shadow(0px 1px 2px rgba(0, 0, 0, 0.3));\n",
              "      fill: #FFFFFF;\n",
              "    }\n",
              "  </style>\n",
              "\n",
              "    <script>\n",
              "      const buttonEl =\n",
              "        document.querySelector('#df-2357f1f0-0c4a-4473-89e5-f4849eebfc61 button.colab-df-convert');\n",
              "      buttonEl.style.display =\n",
              "        google.colab.kernel.accessAllowed ? 'block' : 'none';\n",
              "\n",
              "      async function convertToInteractive(key) {\n",
              "        const element = document.querySelector('#df-2357f1f0-0c4a-4473-89e5-f4849eebfc61');\n",
              "        const dataTable =\n",
              "          await google.colab.kernel.invokeFunction('convertToInteractive',\n",
              "                                                    [key], {});\n",
              "        if (!dataTable) return;\n",
              "\n",
              "        const docLinkHtml = 'Like what you see? Visit the ' +\n",
              "          '<a target=\"_blank\" href=https://colab.research.google.com/notebooks/data_table.ipynb>data table notebook</a>'\n",
              "          + ' to learn more about interactive tables.';\n",
              "        element.innerHTML = '';\n",
              "        dataTable['output_type'] = 'display_data';\n",
              "        await google.colab.output.renderOutput(dataTable, element);\n",
              "        const docLink = document.createElement('div');\n",
              "        docLink.innerHTML = docLinkHtml;\n",
              "        element.appendChild(docLink);\n",
              "      }\n",
              "    </script>\n",
              "  </div>\n",
              "\n",
              "\n",
              "<div id=\"df-3febd1a0-8aeb-4d6b-860c-9da1ee9b84ea\">\n",
              "  <button class=\"colab-df-quickchart\" onclick=\"quickchart('df-3febd1a0-8aeb-4d6b-860c-9da1ee9b84ea')\"\n",
              "            title=\"Suggest charts\"\n",
              "            style=\"display:none;\">\n",
              "\n",
              "<svg xmlns=\"http://www.w3.org/2000/svg\" height=\"24px\"viewBox=\"0 0 24 24\"\n",
              "     width=\"24px\">\n",
              "    <g>\n",
              "        <path d=\"M19 3H5c-1.1 0-2 .9-2 2v14c0 1.1.9 2 2 2h14c1.1 0 2-.9 2-2V5c0-1.1-.9-2-2-2zM9 17H7v-7h2v7zm4 0h-2V7h2v10zm4 0h-2v-4h2v4z\"/>\n",
              "    </g>\n",
              "</svg>\n",
              "  </button>\n",
              "\n",
              "<style>\n",
              "  .colab-df-quickchart {\n",
              "      --bg-color: #E8F0FE;\n",
              "      --fill-color: #1967D2;\n",
              "      --hover-bg-color: #E2EBFA;\n",
              "      --hover-fill-color: #174EA6;\n",
              "      --disabled-fill-color: #AAA;\n",
              "      --disabled-bg-color: #DDD;\n",
              "  }\n",
              "\n",
              "  [theme=dark] .colab-df-quickchart {\n",
              "      --bg-color: #3B4455;\n",
              "      --fill-color: #D2E3FC;\n",
              "      --hover-bg-color: #434B5C;\n",
              "      --hover-fill-color: #FFFFFF;\n",
              "      --disabled-bg-color: #3B4455;\n",
              "      --disabled-fill-color: #666;\n",
              "  }\n",
              "\n",
              "  .colab-df-quickchart {\n",
              "    background-color: var(--bg-color);\n",
              "    border: none;\n",
              "    border-radius: 50%;\n",
              "    cursor: pointer;\n",
              "    display: none;\n",
              "    fill: var(--fill-color);\n",
              "    height: 32px;\n",
              "    padding: 0;\n",
              "    width: 32px;\n",
              "  }\n",
              "\n",
              "  .colab-df-quickchart:hover {\n",
              "    background-color: var(--hover-bg-color);\n",
              "    box-shadow: 0 1px 2px rgba(60, 64, 67, 0.3), 0 1px 3px 1px rgba(60, 64, 67, 0.15);\n",
              "    fill: var(--button-hover-fill-color);\n",
              "  }\n",
              "\n",
              "  .colab-df-quickchart-complete:disabled,\n",
              "  .colab-df-quickchart-complete:disabled:hover {\n",
              "    background-color: var(--disabled-bg-color);\n",
              "    fill: var(--disabled-fill-color);\n",
              "    box-shadow: none;\n",
              "  }\n",
              "\n",
              "  .colab-df-spinner {\n",
              "    border: 2px solid var(--fill-color);\n",
              "    border-color: transparent;\n",
              "    border-bottom-color: var(--fill-color);\n",
              "    animation:\n",
              "      spin 1s steps(1) infinite;\n",
              "  }\n",
              "\n",
              "  @keyframes spin {\n",
              "    0% {\n",
              "      border-color: transparent;\n",
              "      border-bottom-color: var(--fill-color);\n",
              "      border-left-color: var(--fill-color);\n",
              "    }\n",
              "    20% {\n",
              "      border-color: transparent;\n",
              "      border-left-color: var(--fill-color);\n",
              "      border-top-color: var(--fill-color);\n",
              "    }\n",
              "    30% {\n",
              "      border-color: transparent;\n",
              "      border-left-color: var(--fill-color);\n",
              "      border-top-color: var(--fill-color);\n",
              "      border-right-color: var(--fill-color);\n",
              "    }\n",
              "    40% {\n",
              "      border-color: transparent;\n",
              "      border-right-color: var(--fill-color);\n",
              "      border-top-color: var(--fill-color);\n",
              "    }\n",
              "    60% {\n",
              "      border-color: transparent;\n",
              "      border-right-color: var(--fill-color);\n",
              "    }\n",
              "    80% {\n",
              "      border-color: transparent;\n",
              "      border-right-color: var(--fill-color);\n",
              "      border-bottom-color: var(--fill-color);\n",
              "    }\n",
              "    90% {\n",
              "      border-color: transparent;\n",
              "      border-bottom-color: var(--fill-color);\n",
              "    }\n",
              "  }\n",
              "</style>\n",
              "\n",
              "  <script>\n",
              "    async function quickchart(key) {\n",
              "      const quickchartButtonEl =\n",
              "        document.querySelector('#' + key + ' button');\n",
              "      quickchartButtonEl.disabled = true;  // To prevent multiple clicks.\n",
              "      quickchartButtonEl.classList.add('colab-df-spinner');\n",
              "      try {\n",
              "        const charts = await google.colab.kernel.invokeFunction(\n",
              "            'suggestCharts', [key], {});\n",
              "      } catch (error) {\n",
              "        console.error('Error during call to suggestCharts:', error);\n",
              "      }\n",
              "      quickchartButtonEl.classList.remove('colab-df-spinner');\n",
              "      quickchartButtonEl.classList.add('colab-df-quickchart-complete');\n",
              "    }\n",
              "    (() => {\n",
              "      let quickchartButtonEl =\n",
              "        document.querySelector('#df-3febd1a0-8aeb-4d6b-860c-9da1ee9b84ea button');\n",
              "      quickchartButtonEl.style.display =\n",
              "        google.colab.kernel.accessAllowed ? 'block' : 'none';\n",
              "    })();\n",
              "  </script>\n",
              "</div>\n",
              "    </div>\n",
              "  </div>\n"
            ]
          },
          "metadata": {},
          "execution_count": 23
        }
      ]
    },
    {
      "cell_type": "markdown",
      "source": [
        "Industry wise Investment by different Sharks"
      ],
      "metadata": {
        "id": "KT16RRoXhi5h"
      }
    },
    {
      "cell_type": "code",
      "source": [
        "import pandas as pd\n",
        "import matplotlib.pyplot as plt\n",
        "import plotly.express as px\n",
        "\n",
        "\n",
        "\n",
        "\n",
        "print(df[df['Ashneer Investment Amount']>0]['Industry'].value_counts().sort_values(ascending=False))\n",
        "df[df['Ashneer Investment Amount']>0]['Industry'].value_counts().sort_values(ascending=False).plot.pie(autopct='%1.2f%%')\n",
        "plt.show()\n",
        "temp=df.loc[df['Ashneer Investment Amount']>0][['Startup Name','Ashneer Investment Amount','Ashneer Investment Equity']].sort_values(by='Ashneer Investment Equity')\n",
        "print(temp)\n",
        "figure=px.bar(temp,x='Ashneer Investment Equity',y='Ashneer Investment Amount',color='Startup Name',title='Total Equity received by Ashneer in (%) fro investment (in lakhs)',text=temp['Ashneer Investment Amount'].map(int).map(str)+'lakhs')\n",
        "figure.update_layout(dict(xaxis =dict(type='category')))\n",
        "figure.show()"
      ],
      "metadata": {
        "colab": {
          "base_uri": "https://localhost:8080/",
          "height": 1000
        },
        "id": "LwbL14vehsIX",
        "outputId": "0345722f-ef63-4ed9-9574-1762c73fc92d"
      },
      "execution_count": null,
      "outputs": [
        {
          "output_type": "stream",
          "name": "stdout",
          "text": [
            "Food                            8\n",
            "Vehicles/Electrical Vehicles    3\n",
            "Education                       3\n",
            "Manufacturing                   2\n",
            "Beauty/Fashion                  2\n",
            "Animal/Pets                     1\n",
            "Sports                          1\n",
            "Technology/Software             1\n",
            "Name: Industry, dtype: int64\n"
          ]
        },
        {
          "output_type": "display_data",
          "data": {
            "text/plain": [
              "<Figure size 640x480 with 1 Axes>"
            ],
            "image/png": "[encoded data removed]"
          },
          "metadata": {}
        },
        {
          "output_type": "stream",
          "name": "stdout",
          "text": [
            "           Startup Name  Ashneer Investment Amount  Ashneer Investment Equity\n",
            "56                 Otua                       1.00                       1.00\n",
            "30            EventBeep                      10.00                       1.00\n",
            "22          BeyondSnack                      25.00                       1.25\n",
            "68        HairOriginals                      20.00                       1.33\n",
            "46          BambooIndia                      25.00                       1.75\n",
            "64               INACAN                      20.00                       2.00\n",
            "18    RaisingSuperstars                      50.00                       2.00\n",
            "59              WeSTOCK                      15.00                       2.50\n",
            "39        TheYarnBazaar                      25.00                       2.50\n",
            "3             TagzFoods                      70.00                       2.75\n",
            "15        SkippiIcePops                      20.00                       3.00\n",
            "109           TweekLabs                      20.00                       3.33\n",
            "111    NomadFoodProject                      10.00                       5.00\n",
            "51         AasVidyalaya                      50.00                       5.00\n",
            "110              Proxgy                      50.00                       5.00\n",
            "65           Get-A-Whey                      33.33                       5.00\n",
            "50   FindYourKicksIndia                      10.00                       5.00\n",
            "0         BluePineFoods                      25.00                       5.33\n",
            "24         MotionBreeze                      30.00                       6.00\n",
            "115        JainShikanji                      10.00                       7.50\n",
            "1          BoozScooters                      20.00                      25.00\n"
          ]
        },
        {
          "output_type": "display_data",
          "data": {
            "text/html": [
              "<html>\n",
              "<head><meta charset=\"utf-8\" /></head>\n",
              "<body>\n",
              "    <div>            <script src=\"https://cdnjs.cloudflare.com/ajax/libs/mathjax/2.7.5/MathJax.js?config=TeX-AMS-MML_SVG\"></script><script type=\"text/javascript\">if (window.MathJax && window.MathJax.Hub && window.MathJax.Hub.Config) {window.MathJax.Hub.Config({SVG: {font: \"STIX-Web\"}});}</script>                <script type=\"text/javascript\">window.PlotlyConfig = {MathJaxConfig: 'local'};</script>\n",
              "        <script charset=\"utf-8\" src=\"https://cdn.plot.ly/plotly-2.24.1.min.js\"></script>                <div id=\"36e747ef-8211-4659-9f49-448d0d8a8b82\" class=\"plotly-graph-div\" style=\"height:525px; width:100%;\"></div>            <script type=\"text/javascript\">                                    window.PLOTLYENV=window.PLOTLYENV || {};                                    if (document.getElementById(\"36e747ef-8211-4659-9f49-448d0d8a8b82\")) {                    Plotly.newPlot(                        \"36e747ef-8211-4659-9f49-448d0d8a8b82\",                        [{\"alignmentgroup\":\"True\",\"hovertemplate\":\"Startup Name=Otua\\u003cbr\\u003eAshneer Investment Equity=%{x}\\u003cbr\\u003eAshneer Investment Amount=%{y}\\u003cbr\\u003etext=%{text}\\u003cextra\\u003e\\u003c\\u002fextra\\u003e\",\"legendgroup\":\"Otua\",\"marker\":{\"color\":\"#636efa\",\"pattern\":{\"shape\":\"\"}},\"name\":\"Otua\",\"offsetgroup\":\"Otua\",\"orientation\":\"v\",\"showlegend\":true,\"text\":[\"1lakhs\"],\"textposition\":\"auto\",\"x\":[1.0],\"xaxis\":\"x\",\"y\":[1.0],\"yaxis\":\"y\",\"type\":\"bar\"},{\"alignmentgroup\":\"True\",\"hovertemplate\":\"Startup Name=EventBeep\\u003cbr\\u003eAshneer Investment Equity=%{x}\\u003cbr\\u003eAshneer Investment Amount=%{y}\\u003cbr\\u003etext=%{text}\\u003cextra\\u003e\\u003c\\u002fextra\\u003e\",\"legendgroup\":\"EventBeep\",\"marker\":{\"color\":\"#EF553B\",\"pattern\":{\"shape\":\"\"}},\"name\":\"EventBeep\",\"offsetgroup\":\"EventBeep\",\"orientation\":\"v\",\"showlegend\":true,\"text\":[\"10lakhs\"],\"textposition\":\"auto\",\"x\":[1.0],\"xaxis\":\"x\",\"y\":[10.0],\"yaxis\":\"y\",\"type\":\"bar\"},{\"alignmentgroup\":\"True\",\"hovertemplate\":\"Startup Name=BeyondSnack\\u003cbr\\u003eAshneer Investment Equity=%{x}\\u003cbr\\u003eAshneer Investment Amount=%{y}\\u003cbr\\u003etext=%{text}\\u003cextra\\u003e\\u003c\\u002fextra\\u003e\",\"legendgroup\":\"BeyondSnack\",\"marker\":{\"color\":\"#00cc96\",\"pattern\":{\"shape\":\"\"}},\"name\":\"BeyondSnack\",\"offsetgroup\":\"BeyondSnack\",\"orientation\":\"v\",\"showlegend\":true,\"text\":[\"25lakhs\"],\"textposition\":\"auto\",\"x\":[1.25],\"xaxis\":\"x\",\"y\":[25.0],\"yaxis\":\"y\",\"type\":\"bar\"},{\"alignmentgroup\":\"True\",\"hovertemplate\":\"Startup Name=HairOriginals\\u003cbr\\u003eAshneer Investment Equity=%{x}\\u003cbr\\u003eAshneer Investment Amount=%{y}\\u003cbr\\u003etext=%{text}\\u003cextra\\u003e\\u003c\\u002fextra\\u003e\",\"legendgroup\":\"HairOriginals\",\"marker\":{\"color\":\"#ab63fa\",\"pattern\":{\"shape\":\"\"}},\"name\":\"HairOriginals\",\"offsetgroup\":\"HairOriginals\",\"orientation\":\"v\",\"showlegend\":true,\"text\":[\"20lakhs\"],\"textposition\":\"auto\",\"x\":[1.33],\"xaxis\":\"x\",\"y\":[20.0],\"yaxis\":\"y\",\"type\":\"bar\"},{\"alignmentgroup\":\"True\",\"hovertemplate\":\"Startup Name=BambooIndia\\u003cbr\\u003eAshneer Investment Equity=%{x}\\u003cbr\\u003eAshneer Investment Amount=%{y}\\u003cbr\\u003etext=%{text}\\u003cextra\\u003e\\u003c\\u002fextra\\u003e\",\"legendgroup\":\"BambooIndia\",\"marker\":{\"color\":\"#FFA15A\",\"pattern\":{\"shape\":\"\"}},\"name\":\"BambooIndia\",\"offsetgroup\":\"BambooIndia\",\"orientation\":\"v\",\"showlegend\":true,\"text\":[\"25lakhs\"],\"textposition\":\"auto\",\"x\":[1.75],\"xaxis\":\"x\",\"y\":[25.0],\"yaxis\":\"y\",\"type\":\"bar\"},{\"alignmentgroup\":\"True\",\"hovertemplate\":\"Startup Name=INACAN\\u003cbr\\u003eAshneer Investment Equity=%{x}\\u003cbr\\u003eAshneer Investment Amount=%{y}\\u003cbr\\u003etext=%{text}\\u003cextra\\u003e\\u003c\\u002fextra\\u003e\",\"legendgroup\":\"INACAN\",\"marker\":{\"color\":\"#19d3f3\",\"pattern\":{\"shape\":\"\"}},\"name\":\"INACAN\",\"offsetgroup\":\"INACAN\",\"orientation\":\"v\",\"showlegend\":true,\"text\":[\"20lakhs\"],\"textposition\":\"auto\",\"x\":[2.0],\"xaxis\":\"x\",\"y\":[20.0],\"yaxis\":\"y\",\"type\":\"bar\"},{\"alignmentgroup\":\"True\",\"hovertemplate\":\"Startup Name=RaisingSuperstars\\u003cbr\\u003eAshneer Investment Equity=%{x}\\u003cbr\\u003eAshneer Investment Amount=%{y}\\u003cbr\\u003etext=%{text}\\u003cextra\\u003e\\u003c\\u002fextra\\u003e\",\"legendgroup\":\"RaisingSuperstars\",\"marker\":{\"color\":\"#FF6692\",\"pattern\":{\"shape\":\"\"}},\"name\":\"RaisingSuperstars\",\"offsetgroup\":\"RaisingSuperstars\",\"orientation\":\"v\",\"showlegend\":true,\"text\":[\"50lakhs\"],\"textposition\":\"auto\",\"x\":[2.0],\"xaxis\":\"x\",\"y\":[50.0],\"yaxis\":\"y\",\"type\":\"bar\"},{\"alignmentgroup\":\"True\",\"hovertemplate\":\"Startup Name=WeSTOCK\\u003cbr\\u003eAshneer Investment Equity=%{x}\\u003cbr\\u003eAshneer Investment Amount=%{y}\\u003cbr\\u003etext=%{text}\\u003cextra\\u003e\\u003c\\u002fextra\\u003e\",\"legendgroup\":\"WeSTOCK\",\"marker\":{\"color\":\"#B6E880\",\"pattern\":{\"shape\":\"\"}},\"name\":\"WeSTOCK\",\"offsetgroup\":\"WeSTOCK\",\"orientation\":\"v\",\"showlegend\":true,\"text\":[\"15lakhs\"],\"textposition\":\"auto\",\"x\":[2.5],\"xaxis\":\"x\",\"y\":[15.0],\"yaxis\":\"y\",\"type\":\"bar\"},{\"alignmentgroup\":\"True\",\"hovertemplate\":\"Startup Name=TheYarnBazaar\\u003cbr\\u003eAshneer Investment Equity=%{x}\\u003cbr\\u003eAshneer Investment Amount=%{y}\\u003cbr\\u003etext=%{text}\\u003cextra\\u003e\\u003c\\u002fextra\\u003e\",\"legendgroup\":\"TheYarnBazaar\",\"marker\":{\"color\":\"#FF97FF\",\"pattern\":{\"shape\":\"\"}},\"name\":\"TheYarnBazaar\",\"offsetgroup\":\"TheYarnBazaar\",\"orientation\":\"v\",\"showlegend\":true,\"text\":[\"25lakhs\"],\"textposition\":\"auto\",\"x\":[2.5],\"xaxis\":\"x\",\"y\":[25.0],\"yaxis\":\"y\",\"type\":\"bar\"},{\"alignmentgroup\":\"True\",\"hovertemplate\":\"Startup Name=TagzFoods\\u003cbr\\u003eAshneer Investment Equity=%{x}\\u003cbr\\u003eAshneer Investment Amount=%{y}\\u003cbr\\u003etext=%{text}\\u003cextra\\u003e\\u003c\\u002fextra\\u003e\",\"legendgroup\":\"TagzFoods\",\"marker\":{\"color\":\"#FECB52\",\"pattern\":{\"shape\":\"\"}},\"name\":\"TagzFoods\",\"offsetgroup\":\"TagzFoods\",\"orientation\":\"v\",\"showlegend\":true,\"text\":[\"70lakhs\"],\"textposition\":\"auto\",\"x\":[2.75],\"xaxis\":\"x\",\"y\":[70.0],\"yaxis\":\"y\",\"type\":\"bar\"},{\"alignmentgroup\":\"True\",\"hovertemplate\":\"Startup Name=SkippiIcePops\\u003cbr\\u003eAshneer Investment Equity=%{x}\\u003cbr\\u003eAshneer Investment Amount=%{y}\\u003cbr\\u003etext=%{text}\\u003cextra\\u003e\\u003c\\u002fextra\\u003e\",\"legendgroup\":\"SkippiIcePops\",\"marker\":{\"color\":\"#636efa\",\"pattern\":{\"shape\":\"\"}},\"name\":\"SkippiIcePops\",\"offsetgroup\":\"SkippiIcePops\",\"orientation\":\"v\",\"showlegend\":true,\"text\":[\"20lakhs\"],\"textposition\":\"auto\",\"x\":[3.0],\"xaxis\":\"x\",\"y\":[20.0],\"yaxis\":\"y\",\"type\":\"bar\"},{\"alignmentgroup\":\"True\",\"hovertemplate\":\"Startup Name=TweekLabs\\u003cbr\\u003eAshneer Investment Equity=%{x}\\u003cbr\\u003eAshneer Investment Amount=%{y}\\u003cbr\\u003etext=%{text}\\u003cextra\\u003e\\u003c\\u002fextra\\u003e\",\"legendgroup\":\"TweekLabs\",\"marker\":{\"color\":\"#EF553B\",\"pattern\":{\"shape\":\"\"}},\"name\":\"TweekLabs\",\"offsetgroup\":\"TweekLabs\",\"orientation\":\"v\",\"showlegend\":true,\"text\":[\"20lakhs\"],\"textposition\":\"auto\",\"x\":[3.33],\"xaxis\":\"x\",\"y\":[20.0],\"yaxis\":\"y\",\"type\":\"bar\"},{\"alignmentgroup\":\"True\",\"hovertemplate\":\"Startup Name=NomadFoodProject\\u003cbr\\u003eAshneer Investment Equity=%{x}\\u003cbr\\u003eAshneer Investment Amount=%{y}\\u003cbr\\u003etext=%{text}\\u003cextra\\u003e\\u003c\\u002fextra\\u003e\",\"legendgroup\":\"NomadFoodProject\",\"marker\":{\"color\":\"#00cc96\",\"pattern\":{\"shape\":\"\"}},\"name\":\"NomadFoodProject\",\"offsetgroup\":\"NomadFoodProject\",\"orientation\":\"v\",\"showlegend\":true,\"text\":[\"10lakhs\"],\"textposition\":\"auto\",\"x\":[5.0],\"xaxis\":\"x\",\"y\":[10.0],\"yaxis\":\"y\",\"type\":\"bar\"},{\"alignmentgroup\":\"True\",\"hovertemplate\":\"Startup Name=AasVidyalaya\\u003cbr\\u003eAshneer Investment Equity=%{x}\\u003cbr\\u003eAshneer Investment Amount=%{y}\\u003cbr\\u003etext=%{text}\\u003cextra\\u003e\\u003c\\u002fextra\\u003e\",\"legendgroup\":\"AasVidyalaya\",\"marker\":{\"color\":\"#ab63fa\",\"pattern\":{\"shape\":\"\"}},\"name\":\"AasVidyalaya\",\"offsetgroup\":\"AasVidyalaya\",\"orientation\":\"v\",\"showlegend\":true,\"text\":[\"50lakhs\"],\"textposition\":\"auto\",\"x\":[5.0],\"xaxis\":\"x\",\"y\":[50.0],\"yaxis\":\"y\",\"type\":\"bar\"},{\"alignmentgroup\":\"True\",\"hovertemplate\":\"Startup Name=Proxgy\\u003cbr\\u003eAshneer Investment Equity=%{x}\\u003cbr\\u003eAshneer Investment Amount=%{y}\\u003cbr\\u003etext=%{text}\\u003cextra\\u003e\\u003c\\u002fextra\\u003e\",\"legendgroup\":\"Proxgy\",\"marker\":{\"color\":\"#FFA15A\",\"pattern\":{\"shape\":\"\"}},\"name\":\"Proxgy\",\"offsetgroup\":\"Proxgy\",\"orientation\":\"v\",\"showlegend\":true,\"text\":[\"50lakhs\"],\"textposition\":\"auto\",\"x\":[5.0],\"xaxis\":\"x\",\"y\":[50.0],\"yaxis\":\"y\",\"type\":\"bar\"},{\"alignmentgroup\":\"True\",\"hovertemplate\":\"Startup Name=Get-A-Whey\\u003cbr\\u003eAshneer Investment Equity=%{x}\\u003cbr\\u003eAshneer Investment Amount=%{y}\\u003cbr\\u003etext=%{text}\\u003cextra\\u003e\\u003c\\u002fextra\\u003e\",\"legendgroup\":\"Get-A-Whey\",\"marker\":{\"color\":\"#19d3f3\",\"pattern\":{\"shape\":\"\"}},\"name\":\"Get-A-Whey\",\"offsetgroup\":\"Get-A-Whey\",\"orientation\":\"v\",\"showlegend\":true,\"text\":[\"33lakhs\"],\"textposition\":\"auto\",\"x\":[5.0],\"xaxis\":\"x\",\"y\":[33.33],\"yaxis\":\"y\",\"type\":\"bar\"},{\"alignmentgroup\":\"True\",\"hovertemplate\":\"Startup Name=FindYourKicksIndia\\u003cbr\\u003eAshneer Investment Equity=%{x}\\u003cbr\\u003eAshneer Investment Amount=%{y}\\u003cbr\\u003etext=%{text}\\u003cextra\\u003e\\u003c\\u002fextra\\u003e\",\"legendgroup\":\"FindYourKicksIndia\",\"marker\":{\"color\":\"#FF6692\",\"pattern\":{\"shape\":\"\"}},\"name\":\"FindYourKicksIndia\",\"offsetgroup\":\"FindYourKicksIndia\",\"orientation\":\"v\",\"showlegend\":true,\"text\":[\"10lakhs\"],\"textposition\":\"auto\",\"x\":[5.0],\"xaxis\":\"x\",\"y\":[10.0],\"yaxis\":\"y\",\"type\":\"bar\"},{\"alignmentgroup\":\"True\",\"hovertemplate\":\"Startup Name=BluePineFoods\\u003cbr\\u003eAshneer Investment Equity=%{x}\\u003cbr\\u003eAshneer Investment Amount=%{y}\\u003cbr\\u003etext=%{text}\\u003cextra\\u003e\\u003c\\u002fextra\\u003e\",\"legendgroup\":\"BluePineFoods\",\"marker\":{\"color\":\"#B6E880\",\"pattern\":{\"shape\":\"\"}},\"name\":\"BluePineFoods\",\"offsetgroup\":\"BluePineFoods\",\"orientation\":\"v\",\"showlegend\":true,\"text\":[\"25lakhs\"],\"textposition\":\"auto\",\"x\":[5.33],\"xaxis\":\"x\",\"y\":[25.0],\"yaxis\":\"y\",\"type\":\"bar\"},{\"alignmentgroup\":\"True\",\"hovertemplate\":\"Startup Name=MotionBreeze\\u003cbr\\u003eAshneer Investment Equity=%{x}\\u003cbr\\u003eAshneer Investment Amount=%{y}\\u003cbr\\u003etext=%{text}\\u003cextra\\u003e\\u003c\\u002fextra\\u003e\",\"legendgroup\":\"MotionBreeze\",\"marker\":{\"color\":\"#FF97FF\",\"pattern\":{\"shape\":\"\"}},\"name\":\"MotionBreeze\",\"offsetgroup\":\"MotionBreeze\",\"orientation\":\"v\",\"showlegend\":true,\"text\":[\"30lakhs\"],\"textposition\":\"auto\",\"x\":[6.0],\"xaxis\":\"x\",\"y\":[30.0],\"yaxis\":\"y\",\"type\":\"bar\"},{\"alignmentgroup\":\"True\",\"hovertemplate\":\"Startup Name=JainShikanji\\u003cbr\\u003eAshneer Investment Equity=%{x}\\u003cbr\\u003eAshneer Investment Amount=%{y}\\u003cbr\\u003etext=%{text}\\u003cextra\\u003e\\u003c\\u002fextra\\u003e\",\"legendgroup\":\"JainShikanji\",\"marker\":{\"color\":\"#FECB52\",\"pattern\":{\"shape\":\"\"}},\"name\":\"JainShikanji\",\"offsetgroup\":\"JainShikanji\",\"orientation\":\"v\",\"showlegend\":true,\"text\":[\"10lakhs\"],\"textposition\":\"auto\",\"x\":[7.5],\"xaxis\":\"x\",\"y\":[10.0],\"yaxis\":\"y\",\"type\":\"bar\"},{\"alignmentgroup\":\"True\",\"hovertemplate\":\"Startup Name=BoozScooters\\u003cbr\\u003eAshneer Investment Equity=%{x}\\u003cbr\\u003eAshneer Investment Amount=%{y}\\u003cbr\\u003etext=%{text}\\u003cextra\\u003e\\u003c\\u002fextra\\u003e\",\"legendgroup\":\"BoozScooters\",\"marker\":{\"color\":\"#636efa\",\"pattern\":{\"shape\":\"\"}},\"name\":\"BoozScooters\",\"offsetgroup\":\"BoozScooters\",\"orientation\":\"v\",\"showlegend\":true,\"text\":[\"20lakhs\"],\"textposition\":\"auto\",\"x\":[25.0],\"xaxis\":\"x\",\"y\":[20.0],\"yaxis\":\"y\",\"type\":\"bar\"}],                        {\"template\":{\"data\":{\"histogram2dcontour\":[{\"type\":\"histogram2dcontour\",\"colorbar\":{\"outlinewidth\":0,\"ticks\":\"\"},\"colorscale\":[[0.0,\"#0d0887\"],[0.1111111111111111,\"#46039f\"],[0.2222222222222222,\"#7201a8\"],[0.3333333333333333,\"#9c179e\"],[0.4444444444444444,\"#bd3786\"],[0.5555555555555556,\"#d8576b\"],[0.6666666666666666,\"#ed7953\"],[0.7777777777777778,\"#fb9f3a\"],[0.8888888888888888,\"#fdca26\"],[1.0,\"#f0f921\"]]}],\"choropleth\":[{\"type\":\"choropleth\",\"colorbar\":{\"outlinewidth\":0,\"ticks\":\"\"}}],\"histogram2d\":[{\"type\":\"histogram2d\",\"colorbar\":{\"outlinewidth\":0,\"ticks\":\"\"},\"colorscale\":[[0.0,\"#0d0887\"],[0.1111111111111111,\"#46039f\"],[0.2222222222222222,\"#7201a8\"],[0.3333333333333333,\"#9c179e\"],[0.4444444444444444,\"#bd3786\"],[0.5555555555555556,\"#d8576b\"],[0.6666666666666666,\"#ed7953\"],[0.7777777777777778,\"#fb9f3a\"],[0.8888888888888888,\"#fdca26\"],[1.0,\"#f0f921\"]]}],\"heatmap\":[{\"type\":\"heatmap\",\"colorbar\":{\"outlinewidth\":0,\"ticks\":\"\"},\"colorscale\":[[0.0,\"#0d0887\"],[0.1111111111111111,\"#46039f\"],[0.2222222222222222,\"#7201a8\"],[0.3333333333333333,\"#9c179e\"],[0.4444444444444444,\"#bd3786\"],[0.5555555555555556,\"#d8576b\"],[0.6666666666666666,\"#ed7953\"],[0.7777777777777778,\"#fb9f3a\"],[0.8888888888888888,\"#fdca26\"],[1.0,\"#f0f921\"]]}],\"heatmapgl\":[{\"type\":\"heatmapgl\",\"colorbar\":{\"outlinewidth\":0,\"ticks\":\"\"},\"colorscale\":[[0.0,\"#0d0887\"],[0.1111111111111111,\"#46039f\"],[0.2222222222222222,\"#7201a8\"],[0.3333333333333333,\"#9c179e\"],[0.4444444444444444,\"#bd3786\"],[0.5555555555555556,\"#d8576b\"],[0.6666666666666666,\"#ed7953\"],[0.7777777777777778,\"#fb9f3a\"],[0.8888888888888888,\"#fdca26\"],[1.0,\"#f0f921\"]]}],\"contourcarpet\":[{\"type\":\"contourcarpet\",\"colorbar\":{\"outlinewidth\":0,\"ticks\":\"\"}}],\"contour\":[{\"type\":\"contour\",\"colorbar\":{\"outlinewidth\":0,\"ticks\":\"\"},\"colorscale\":[[0.0,\"#0d0887\"],[0.1111111111111111,\"#46039f\"],[0.2222222222222222,\"#7201a8\"],[0.3333333333333333,\"#9c179e\"],[0.4444444444444444,\"#bd3786\"],[0.5555555555555556,\"#d8576b\"],[0.6666666666666666,\"#ed7953\"],[0.7777777777777778,\"#fb9f3a\"],[0.8888888888888888,\"#fdca26\"],[1.0,\"#f0f921\"]]}],\"surface\":[{\"type\":\"surface\",\"colorbar\":{\"outlinewidth\":0,\"ticks\":\"\"},\"colorscale\":[[0.0,\"#0d0887\"],[0.1111111111111111,\"#46039f\"],[0.2222222222222222,\"#7201a8\"],[0.3333333333333333,\"#9c179e\"],[0.4444444444444444,\"#bd3786\"],[0.5555555555555556,\"#d8576b\"],[0.6666666666666666,\"#ed7953\"],[0.7777777777777778,\"#fb9f3a\"],[0.8888888888888888,\"#fdca26\"],[1.0,\"#f0f921\"]]}],\"mesh3d\":[{\"type\":\"mesh3d\",\"colorbar\":{\"outlinewidth\":0,\"ticks\":\"\"}}],\"scatter\":[{\"fillpattern\":{\"fillmode\":\"overlay\",\"size\":10,\"solidity\":0.2},\"type\":\"scatter\"}],\"parcoords\":[{\"type\":\"parcoords\",\"line\":{\"colorbar\":{\"outlinewidth\":0,\"ticks\":\"\"}}}],\"scatterpolargl\":[{\"type\":\"scatterpolargl\",\"marker\":{\"colorbar\":{\"outlinewidth\":0,\"ticks\":\"\"}}}],\"bar\":[{\"error_x\":{\"color\":\"#2a3f5f\"},\"error_y\":{\"color\":\"#2a3f5f\"},\"marker\":{\"line\":{\"color\":\"#E5ECF6\",\"width\":0.5},\"pattern\":{\"fillmode\":\"overlay\",\"size\":10,\"solidity\":0.2}},\"type\":\"bar\"}],\"scattergeo\":[{\"type\":\"scattergeo\",\"marker\":{\"colorbar\":{\"outlinewidth\":0,\"ticks\":\"\"}}}],\"scatterpolar\":[{\"type\":\"scatterpolar\",\"marker\":{\"colorbar\":{\"outlinewidth\":0,\"ticks\":\"\"}}}],\"histogram\":[{\"marker\":{\"pattern\":{\"fillmode\":\"overlay\",\"size\":10,\"solidity\":0.2}},\"type\":\"histogram\"}],\"scattergl\":[{\"type\":\"scattergl\",\"marker\":{\"colorbar\":{\"outlinewidth\":0,\"ticks\":\"\"}}}],\"scatter3d\":[{\"type\":\"scatter3d\",\"line\":{\"colorbar\":{\"outlinewidth\":0,\"ticks\":\"\"}},\"marker\":{\"colorbar\":{\"outlinewidth\":0,\"ticks\":\"\"}}}],\"scattermapbox\":[{\"type\":\"scattermapbox\",\"marker\":{\"colorbar\":{\"outlinewidth\":0,\"ticks\":\"\"}}}],\"scatterternary\":[{\"type\":\"scatterternary\",\"marker\":{\"colorbar\":{\"outlinewidth\":0,\"ticks\":\"\"}}}],\"scattercarpet\":[{\"type\":\"scattercarpet\",\"marker\":{\"colorbar\":{\"outlinewidth\":0,\"ticks\":\"\"}}}],\"carpet\":[{\"aaxis\":{\"endlinecolor\":\"#2a3f5f\",\"gridcolor\":\"white\",\"linecolor\":\"white\",\"minorgridcolor\":\"white\",\"startlinecolor\":\"#2a3f5f\"},\"baxis\":{\"endlinecolor\":\"#2a3f5f\",\"gridcolor\":\"white\",\"linecolor\":\"white\",\"minorgridcolor\":\"white\",\"startlinecolor\":\"#2a3f5f\"},\"type\":\"carpet\"}],\"table\":[{\"cells\":{\"fill\":{\"color\":\"#EBF0F8\"},\"line\":{\"color\":\"white\"}},\"header\":{\"fill\":{\"color\":\"#C8D4E3\"},\"line\":{\"color\":\"white\"}},\"type\":\"table\"}],\"barpolar\":[{\"marker\":{\"line\":{\"color\":\"#E5ECF6\",\"width\":0.5},\"pattern\":{\"fillmode\":\"overlay\",\"size\":10,\"solidity\":0.2}},\"type\":\"barpolar\"}],\"pie\":[{\"automargin\":true,\"type\":\"pie\"}]},\"layout\":{\"autotypenumbers\":\"strict\",\"colorway\":[\"#636efa\",\"#EF553B\",\"#00cc96\",\"#ab63fa\",\"#FFA15A\",\"#19d3f3\",\"#FF6692\",\"#B6E880\",\"#FF97FF\",\"#FECB52\"],\"font\":{\"color\":\"#2a3f5f\"},\"hovermode\":\"closest\",\"hoverlabel\":{\"align\":\"left\"},\"paper_bgcolor\":\"white\",\"plot_bgcolor\":\"#E5ECF6\",\"polar\":{\"bgcolor\":\"#E5ECF6\",\"angularaxis\":{\"gridcolor\":\"white\",\"linecolor\":\"white\",\"ticks\":\"\"},\"radialaxis\":{\"gridcolor\":\"white\",\"linecolor\":\"white\",\"ticks\":\"\"}},\"ternary\":{\"bgcolor\":\"#E5ECF6\",\"aaxis\":{\"gridcolor\":\"white\",\"linecolor\":\"white\",\"ticks\":\"\"},\"baxis\":{\"gridcolor\":\"white\",\"linecolor\":\"white\",\"ticks\":\"\"},\"caxis\":{\"gridcolor\":\"white\",\"linecolor\":\"white\",\"ticks\":\"\"}},\"coloraxis\":{\"colorbar\":{\"outlinewidth\":0,\"ticks\":\"\"}},\"colorscale\":{\"sequential\":[[0.0,\"#0d0887\"],[0.1111111111111111,\"#46039f\"],[0.2222222222222222,\"#7201a8\"],[0.3333333333333333,\"#9c179e\"],[0.4444444444444444,\"#bd3786\"],[0.5555555555555556,\"#d8576b\"],[0.6666666666666666,\"#ed7953\"],[0.7777777777777778,\"#fb9f3a\"],[0.8888888888888888,\"#fdca26\"],[1.0,\"#f0f921\"]],\"sequentialminus\":[[0.0,\"#0d0887\"],[0.1111111111111111,\"#46039f\"],[0.2222222222222222,\"#7201a8\"],[0.3333333333333333,\"#9c179e\"],[0.4444444444444444,\"#bd3786\"],[0.5555555555555556,\"#d8576b\"],[0.6666666666666666,\"#ed7953\"],[0.7777777777777778,\"#fb9f3a\"],[0.8888888888888888,\"#fdca26\"],[1.0,\"#f0f921\"]],\"diverging\":[[0,\"#8e0152\"],[0.1,\"#c51b7d\"],[0.2,\"#de77ae\"],[0.3,\"#f1b6da\"],[0.4,\"#fde0ef\"],[0.5,\"#f7f7f7\"],[0.6,\"#e6f5d0\"],[0.7,\"#b8e186\"],[0.8,\"#7fbc41\"],[0.9,\"#4d9221\"],[1,\"#276419\"]]},\"xaxis\":{\"gridcolor\":\"white\",\"linecolor\":\"white\",\"ticks\":\"\",\"title\":{\"standoff\":15},\"zerolinecolor\":\"white\",\"automargin\":true,\"zerolinewidth\":2},\"yaxis\":{\"gridcolor\":\"white\",\"linecolor\":\"white\",\"ticks\":\"\",\"title\":{\"standoff\":15},\"zerolinecolor\":\"white\",\"automargin\":true,\"zerolinewidth\":2},\"scene\":{\"xaxis\":{\"backgroundcolor\":\"#E5ECF6\",\"gridcolor\":\"white\",\"linecolor\":\"white\",\"showbackground\":true,\"ticks\":\"\",\"zerolinecolor\":\"white\",\"gridwidth\":2},\"yaxis\":{\"backgroundcolor\":\"#E5ECF6\",\"gridcolor\":\"white\",\"linecolor\":\"white\",\"showbackground\":true,\"ticks\":\"\",\"zerolinecolor\":\"white\",\"gridwidth\":2},\"zaxis\":{\"backgroundcolor\":\"#E5ECF6\",\"gridcolor\":\"white\",\"linecolor\":\"white\",\"showbackground\":true,\"ticks\":\"\",\"zerolinecolor\":\"white\",\"gridwidth\":2}},\"shapedefaults\":{\"line\":{\"color\":\"#2a3f5f\"}},\"annotationdefaults\":{\"arrowcolor\":\"#2a3f5f\",\"arrowhead\":0,\"arrowwidth\":1},\"geo\":{\"bgcolor\":\"white\",\"landcolor\":\"#E5ECF6\",\"subunitcolor\":\"white\",\"showland\":true,\"showlakes\":true,\"lakecolor\":\"white\"},\"title\":{\"x\":0.05},\"mapbox\":{\"style\":\"light\"}}},\"xaxis\":{\"anchor\":\"y\",\"domain\":[0.0,1.0],\"title\":{\"text\":\"Ashneer Investment Equity\"},\"type\":\"category\"},\"yaxis\":{\"anchor\":\"x\",\"domain\":[0.0,1.0],\"title\":{\"text\":\"Ashneer Investment Amount\"}},\"legend\":{\"title\":{\"text\":\"Startup Name\"},\"tracegroupgap\":0},\"title\":{\"text\":\"Total Equity received by Ashneer in (%) fro investment (in lakhs)\"},\"barmode\":\"relative\"},                        {\"responsive\": true}                    ).then(function(){\n",
              "                            \n",
              "var gd = document.getElementById('36e747ef-8211-4659-9f49-448d0d8a8b82');\n",
              "var x = new MutationObserver(function (mutations, observer) {{\n",
              "        var display = window.getComputedStyle(gd).display;\n",
              "        if (!display || display === 'none') {{\n",
              "            console.log([gd, 'removed!']);\n",
              "            Plotly.purge(gd);\n",
              "            observer.disconnect();\n",
              "        }}\n",
              "}});\n",
              "\n",
              "// Listen for the removal of the full notebook cells\n",
              "var notebookContainer = gd.closest('#notebook-container');\n",
              "if (notebookContainer) {{\n",
              "    x.observe(notebookContainer, {childList: true});\n",
              "}}\n",
              "\n",
              "// Listen for the clearing of the current output cell\n",
              "var outputEl = gd.closest('.output');\n",
              "if (outputEl) {{\n",
              "    x.observe(outputEl, {childList: true});\n",
              "}}\n",
              "\n",
              "                        })                };                            </script>        </div>\n",
              "</body>\n",
              "</html>"
            ]
          },
          "metadata": {}
        }
      ]
    },
    {
      "cell_type": "markdown",
      "source": [
        "**Number of Sharks in a deal**"
      ],
      "metadata": {
        "id": "g8Nta0HarPoJ"
      }
    },
    {
      "cell_type": "code",
      "source": [
        "\n",
        "import pandas as pd\n",
        "import seaborn as sns\n",
        "\n",
        "\n",
        "\n",
        "\n",
        "\n",
        "print(round(df['Number of sharks in deal'].value_counts(normalize=True)*100).astype(str).str.replace('.0','%'))\n",
        "sns.countplot(x='Number of sharks in deal',data=df,palette='viridis')\n",
        "print('deal where more than or equal to five sharks involved')\n",
        "print(df.loc[df['Number of sharks in deal']>=5][['Startup Name','Total Deal Amount','Total Deal Equity']])"
      ],
      "metadata": {
        "colab": {
          "base_uri": "https://localhost:8080/",
          "height": 796
        },
        "id": "O-E4TtgXrfCL",
        "outputId": "4c1e7f3f-9916-4dc1-f82d-34291481a1af"
      },
      "execution_count": null,
      "outputs": [
        {
          "output_type": "stream",
          "name": "stderr",
          "text": [
            "<ipython-input-32-a2fe218eb0fa>:8: FutureWarning:\n",
            "\n",
            "The default value of regex will change from True to False in a future version.\n",
            "\n"
          ]
        },
        {
          "output_type": "stream",
          "name": "stdout",
          "text": [
            "1.0    42%\n",
            "2.0    31%\n",
            "3.0    16%\n",
            "4.0     7%\n",
            "5.0     5%\n",
            "Name: Number of sharks in deal, dtype: object\n",
            "deal where more than or equal to five sharks involved\n",
            "           Startup Name  Total Deal Amount  Total Deal Equity\n",
            "15        SkippiIcePops              100.0               15.0\n",
            "50   FindYourKicksIndia               50.0               25.0\n",
            "64               INACAN              100.0               10.0\n",
            "80   SunfoxTechnologies              100.0                6.0\n",
            "209              Snitch              150.0                1.5\n",
            "239            Mahantam               30.0               20.0\n",
            "274         Pharmallama              200.0                5.0\n",
            "311           Sahayatha              100.0               10.0\n"
          ]
        },
        {
          "output_type": "display_data",
          "data": {
            "text/plain": [
              "<Figure size 640x480 with 1 Axes>"
            ],
            "image/png": "[encoded data removed]"
          },
          "metadata": {}
        }
      ]
    },
    {
      "cell_type": "markdown",
      "source": [
        "**Total amount invested by sharks**"
      ],
      "metadata": {
        "id": "bBKiiu8Gt_lU"
      }
    },
    {
      "cell_type": "code",
      "source": [
        "Amount=[df['Ashneer Investment Amount'].sum(),df['Namita Investment Amount'].sum(),df['Anupam Investment Amount'].sum(),df['Vineeta Investment Amount'].sum(),\n",
        "df['Aman Investment Amount'].sum(),df['Peyush Investment Amount'].sum(),df['Ghazal Investment Amount'].sum()]\n",
        "name=['Ashneer','Namita','Anupam','Vineeta','Aman','Peyush','Ghazal']\n",
        "dfe={'Name':name,'Total Amount':Amount}\n",
        "plt.bar(dfe['Name'],dfe['Total Amount'])\n",
        "\n"
      ],
      "metadata": {
        "colab": {
          "base_uri": "https://localhost:8080/",
          "height": 447
        },
        "id": "biTFSe87uEfC",
        "outputId": "19829cee-5b8c-4e0c-9e99-130c588fa88c"
      },
      "execution_count": null,
      "outputs": [
        {
          "output_type": "execute_result",
          "data": {
            "text/plain": [
              "<BarContainer object of 7 artists>"
            ]
          },
          "metadata": {},
          "execution_count": 38
        },
        {
          "output_type": "display_data",
          "data": {
            "text/plain": [
              "<Figure size 640x480 with 1 Axes>"
            ],
            "image/png": "[encoded data removed]"
          },
          "metadata": {}
        }
      ]
    },
    {
      "cell_type": "markdown",
      "source": [
        "**Total Debt Amount by Sharks**\n",
        "\n"
      ],
      "metadata": {
        "id": "d-PZRIzD0zhs"
      }
    },
    {
      "cell_type": "code",
      "source": [
        "import pandas as pd\n",
        "import matplotlib.pyplot as plt\n",
        "\n",
        "\n",
        "\n",
        "\n",
        "Amount_debt=[df['Ashneer Debt Amount'].sum(),df['Namita Debt Amount'].sum(),df['Anupam Debt Amount'].sum(),df['Vineeta Debt Amount'].sum(),\n",
        "df['Aman Debt Amount'].sum(),df['Peyush Debt Amount'].sum(),df['Ghazal Debt Amount'].sum()]\n",
        "name=['Ashneer','Namita','Anupam','Vineeta','Aman','Peyush','Ghazal']\n",
        "dfe={'Name':name,'Total Amount':Amount_debt}\n",
        "plt.bar(dfe['Name'],dfe['Total Amount'])"
      ],
      "metadata": {
        "colab": {
          "base_uri": "https://localhost:8080/",
          "height": 447
        },
        "id": "F5Z16cdK0-_B",
        "outputId": "67432104-6ef2-46b9-936b-0f5012da3a74"
      },
      "execution_count": null,
      "outputs": [
        {
          "output_type": "execute_result",
          "data": {
            "text/plain": [
              "<BarContainer object of 7 artists>"
            ]
          },
          "metadata": {},
          "execution_count": 5
        },
        {
          "output_type": "display_data",
          "data": {
            "text/plain": [
              "<Figure size 640x480 with 1 Axes>"
            ],
            "image/png": "[encoded data removed]"
          },
          "metadata": {}
        }
      ]
    },
    {
      "cell_type": "markdown",
      "source": [
        "**Total Equity Received by Sharks**"
      ],
      "metadata": {
        "id": "NLXhjurS2Lg5"
      }
    },
    {
      "cell_type": "code",
      "source": [
        "import pandas as pd\n",
        "import matplotlib.pyplot as plt\n",
        "\n",
        "\n",
        "\n",
        "\n",
        "total_equity=[df['Ashneer Investment Equity'].sum(),df['Namita Investment Equity'].sum(),df['Anupam Investment Equity'].sum(),df['Vineeta Investment Equity'].sum(),\n",
        "df['Aman Investment Equity'].sum(),df['Peyush Investment Equity'].sum(),df['Ghazal Investment Equity'].sum()]\n",
        "name=['Ashneer','Namita','Anupam','Vineeta','Aman','Peyush','Ghazal']\n",
        "dfe={'Name':name,'Total_equity':total_equity}\n",
        "plt.bar(dfe['Name'],dfe['Total_equity'])"
      ],
      "metadata": {
        "colab": {
          "base_uri": "https://localhost:8080/",
          "height": 447
        },
        "id": "kqWx54sg3Ojp",
        "outputId": "17941379-6f87-480d-b7b8-d1b63a5a36d8"
      },
      "execution_count": null,
      "outputs": [
        {
          "output_type": "execute_result",
          "data": {
            "text/plain": [
              "<BarContainer object of 7 artists>"
            ]
          },
          "metadata": {},
          "execution_count": 6
        },
        {
          "output_type": "display_data",
          "data": {
            "text/plain": [
              "<Figure size 640x480 with 1 Axes>"
            ],
            "image/png": "[encoded data removed]"
          },
          "metadata": {}
        }
      ]
    },
    {
      "cell_type": "markdown",
      "source": [
        "**some companies were on pre revenue or didnt have any revenue(as of pitching day)**"
      ],
      "metadata": {
        "id": "OgIkKsfO3_kY"
      }
    },
    {
      "cell_type": "code",
      "source": [
        "df2=df.loc[df['Yearly Revenue']==0]\n",
        "print(df2['Startup Name'])"
      ],
      "metadata": {
        "colab": {
          "base_uri": "https://localhost:8080/"
        },
        "id": "5M6tB1gV5p9q",
        "outputId": "7597c02f-e46b-42ea-db20-5a53c6abb13c"
      },
      "execution_count": null,
      "outputs": [
        {
          "output_type": "stream",
          "name": "stdout",
          "text": [
            "24        MotionBreeze\n",
            "42       GoodGoodPiggy\n",
            "83     JulaaAutomation\n",
            "98            Scholify\n",
            "100         Sabjikothi\n",
            "114            On2Cook\n",
            "131          Scintiglo\n",
            "205           Sayonara\n",
            "206                PMV\n",
            "257            CureSee\n",
            "264          HoloKitab\n",
            "277               Hood\n",
            "295          WaggyZone\n",
            "Name: Startup Name, dtype: object\n"
          ]
        }
      ]
    }
  ]
}